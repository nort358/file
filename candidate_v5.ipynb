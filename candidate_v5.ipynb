{
  "nbformat": 4,
  "nbformat_minor": 0,
  "metadata": {
    "colab": {
      "name": "candidate-v5.ipynb",
      "provenance": [],
      "collapsed_sections": [],
      "include_colab_link": true
    },
    "kernelspec": {
      "display_name": "Python 3",
      "language": "python",
      "name": "python3"
    },
    "language_info": {
      "codemirror_mode": {
        "name": "ipython",
        "version": 3
      },
      "file_extension": ".py",
      "mimetype": "text/x-python",
      "name": "python",
      "nbconvert_exporter": "python",
      "pygments_lexer": "ipython3",
      "version": "3.7.9"
    },
    "varInspector": {
      "cols": {
        "lenName": 16,
        "lenType": 16,
        "lenVar": 40
      },
      "kernels_config": {
        "python": {
          "delete_cmd_postfix": "",
          "delete_cmd_prefix": "del ",
          "library": "var_list.py",
          "varRefreshCmd": "print(var_dic_list())"
        },
        "r": {
          "delete_cmd_postfix": ") ",
          "delete_cmd_prefix": "rm(",
          "library": "var_list.r",
          "varRefreshCmd": "cat(var_dic_list()) "
        }
      },
      "types_to_exclude": [
        "module",
        "function",
        "builtin_function_or_method",
        "instance",
        "_Feature"
      ],
      "window_display": false
    }
  },
  "cells": [
    {
      "cell_type": "markdown",
      "metadata": {
        "id": "view-in-github",
        "colab_type": "text"
      },
      "source": [
        "<a href=\"https://colab.research.google.com/github/nort358/file/blob/main/candidate_v5.ipynb\" target=\"_parent\"><img src=\"https://colab.research.google.com/assets/colab-badge.svg\" alt=\"Open In Colab\"/></a>"
      ]
    },
    {
      "cell_type": "markdown",
      "metadata": {
        "id": "3hhKYZe0m3wk"
      },
      "source": [
        "# Тестовое задание"
      ]
    },
    {
      "cell_type": "markdown",
      "metadata": {
        "id": "UTOl6GH6m3wm"
      },
      "source": [
        "**Общие требования:**\n",
        "1. приложить файл requirements.txt с пакетами, которые необходимо установить для воспроизведения результата.\n",
        "1. комментировать ход решения.\n",
        "1. **дополнительный вопрос на подумать (к каждой задаче):** есть ли метрики, которые лучше подходят для задачи?\n",
        "1. **дополнительное вопрос на подумать (к каждой задаче):** как изменилось бы решение, если бы модель необходимо было встроить в другую систему, используя Java?\n",
        "\n",
        "**Критерии оценки:** \n",
        "1. Владение инструментами анализа данных и машинного обучения.\n",
        "1. Финальное качество, которые удалось получить.\n",
        "\n",
        "Намного важнее **как** вы решаете задачу, чем финальная метрика на тесте."
      ]
    },
    {
      "cell_type": "markdown",
      "metadata": {
        "id": "dvHpgh8wm3wo"
      },
      "source": [
        "# 1. Задания "
      ]
    },
    {
      "cell_type": "markdown",
      "metadata": {
        "id": "oelOr6Iqm3wo"
      },
      "source": [
        "## 1.1 Классификация и регрессия"
      ]
    },
    {
      "cell_type": "markdown",
      "metadata": {
        "id": "Uc0UCO6hm3wp"
      },
      "source": [
        "#### Данные"
      ]
    },
    {
      "cell_type": "markdown",
      "metadata": {
        "id": "MbDm0Gm0m3wp"
      },
      "source": [
        "Источник данных: http://cas.uqam.ca/. Авторы: Christophe Dutang, Arthur Charpentier. Лицензия: GPL-3. Некоторые столбцы были модифицированны, чтобы не возникало искушение подсмотреть целевые переменные в исходном датасете. Данные находятся в приложенном файле *task1_train_v5.csv*"
      ]
    },
    {
      "cell_type": "markdown",
      "metadata": {
        "id": "BftjUp8vm3wq"
      },
      "source": [
        "**Задача:**"
      ]
    },
    {
      "cell_type": "markdown",
      "metadata": {
        "id": "-_VBxWeFm3wq"
      },
      "source": [
        "1. для заданного набора данных (*task1_train_v5.csv*) решить задачи классификации (целевая переменная *target_classification*, метрика ROC-AUC) и регрессии (целевая переменная *target_regression*, метрика RMSE).\n",
        "2. получить предсказания для тестового набора данных (*task1_test_v5.csv*), сохранить в файл с расширением *csv* и приложить к решению"
      ]
    },
    {
      "cell_type": "code",
      "metadata": {
        "colab": {
          "base_uri": "https://localhost:8080/"
        },
        "id": "wnt3N95pqGa4",
        "outputId": "a0d4b309-c50d-43ff-f9f9-ad1beaf7a3a5"
      },
      "source": [
        "!wget https://github.com/nort358/file/blob/main/deeplay-ml-test-v5-for-candidate.rar"
      ],
      "execution_count": null,
      "outputs": [
        {
          "output_type": "stream",
          "text": [
            "--2021-06-02 18:59:07--  https://github.com/nort358/file/blob/main/deeplay-ml-test-v5-for-candidate.rar\n",
            "Resolving github.com (github.com)... 140.82.112.3\n",
            "Connecting to github.com (github.com)|140.82.112.3|:443... connected.\n",
            "HTTP request sent, awaiting response... 200 OK\n",
            "Length: unspecified [text/html]\n",
            "Saving to: ‘deeplay-ml-test-v5-for-candidate.rar.4’\n",
            "\n",
            "deeplay-ml-test-v5-     [ <=>                ] 108.24K  --.-KB/s    in 0.04s   \n",
            "\n",
            "2021-06-02 18:59:07 (2.77 MB/s) - ‘deeplay-ml-test-v5-for-candidate.rar.4’ saved [110840]\n",
            "\n"
          ],
          "name": "stdout"
        }
      ]
    },
    {
      "cell_type": "code",
      "metadata": {
        "id": "WpcuMP_Hz83o"
      },
      "source": [
        "import seaborn as sns\n",
        "import matplotlib.pyplot as plt"
      ],
      "execution_count": null,
      "outputs": []
    },
    {
      "cell_type": "code",
      "metadata": {
        "colab": {
          "base_uri": "https://localhost:8080/"
        },
        "id": "r9RebIugzDUi",
        "outputId": "bd3ee401-406b-4c6f-a763-0c6e6107b359"
      },
      "source": [
        "import pandas as pd\n",
        "import numpy as np\n",
        "\n",
        "from google.colab import drive\n",
        "drive.mount('/content/drive')\n"
      ],
      "execution_count": null,
      "outputs": [
        {
          "output_type": "stream",
          "text": [
            "Drive already mounted at /content/drive; to attempt to forcibly remount, call drive.mount(\"/content/drive\", force_remount=True).\n"
          ],
          "name": "stdout"
        }
      ]
    },
    {
      "cell_type": "code",
      "metadata": {
        "id": "Q3PCDjyAzO04"
      },
      "source": [
        "train = pd.read_csv('/content/drive/MyDrive/task1_train_v5.csv', sep=';')\n",
        "test = pd.read_csv('/content/drive/MyDrive/task1_test_v5.csv', sep=';')"
      ],
      "execution_count": null,
      "outputs": []
    },
    {
      "cell_type": "code",
      "metadata": {
        "colab": {
          "base_uri": "https://localhost:8080/",
          "height": 551
        },
        "id": "BlF41AQoapHK",
        "outputId": "cc59789f-fc39-4c2f-ece4-00a18d80440a"
      },
      "source": [
        "sns.kdeplot(train.Exposure)\n",
        "plt.xticks(np.arange(-0.2,1.3,0.1))"
      ],
      "execution_count": null,
      "outputs": [
        {
          "output_type": "execute_result",
          "data": {
            "text/plain": [
              "([<matplotlib.axis.XTick at 0x7f4bc27e6210>,\n",
              "  <matplotlib.axis.XTick at 0x7f4bc2f99b90>,\n",
              "  <matplotlib.axis.XTick at 0x7f4bc27e63d0>,\n",
              "  <matplotlib.axis.XTick at 0x7f4bc2527610>,\n",
              "  <matplotlib.axis.XTick at 0x7f4bb74de650>,\n",
              "  <matplotlib.axis.XTick at 0x7f4bb74deb90>,\n",
              "  <matplotlib.axis.XTick at 0x7f4bb74dec50>,\n",
              "  <matplotlib.axis.XTick at 0x7f4bc27dbdd0>,\n",
              "  <matplotlib.axis.XTick at 0x7f4bb74f2910>,\n",
              "  <matplotlib.axis.XTick at 0x7f4bb74f21d0>,\n",
              "  <matplotlib.axis.XTick at 0x7f4bb74ea210>,\n",
              "  <matplotlib.axis.XTick at 0x7f4bc2527fd0>,\n",
              "  <matplotlib.axis.XTick at 0x7f4bb74fe6d0>,\n",
              "  <matplotlib.axis.XTick at 0x7f4bb74fed10>,\n",
              "  <matplotlib.axis.XTick at 0x7f4bb7504350>],\n",
              " <a list of 15 Text major ticklabel objects>)"
            ]
          },
          "metadata": {
            "tags": []
          },
          "execution_count": 5
        },
        {
          "output_type": "display_data",
          "data": {
            "image/png": "[encoded data removed]",
            "text/plain": [
              "<Figure size 432x288 with 1 Axes>"
            ]
          },
          "metadata": {
            "tags": [],
            "needs_background": "light"
          }
        }
      ]
    },
    {
      "cell_type": "code",
      "metadata": {
        "colab": {
          "base_uri": "https://localhost:8080/",
          "height": 204
        },
        "id": "sVLlgJO6zaYk",
        "outputId": "07cbec37-4396-41e2-90e1-64bb5ca60067"
      },
      "source": [
        "train.head()"
      ],
      "execution_count": null,
      "outputs": [
        {
          "output_type": "execute_result",
          "data": {
            "text/html": [
              "<div>\n",
              "<style scoped>\n",
              "    .dataframe tbody tr th:only-of-type {\n",
              "        vertical-align: middle;\n",
              "    }\n",
              "\n",
              "    .dataframe tbody tr th {\n",
              "        vertical-align: top;\n",
              "    }\n",
              "\n",
              "    .dataframe thead th {\n",
              "        text-align: right;\n",
              "    }\n",
              "</style>\n",
              "<table border=\"1\" class=\"dataframe\">\n",
              "  <thead>\n",
              "    <tr style=\"text-align: right;\">\n",
              "      <th></th>\n",
              "      <th>IDpol</th>\n",
              "      <th>Exposure</th>\n",
              "      <th>Area</th>\n",
              "      <th>VehPower</th>\n",
              "      <th>VehAge</th>\n",
              "      <th>DrivAge</th>\n",
              "      <th>BonusMalus</th>\n",
              "      <th>VehBrand</th>\n",
              "      <th>VehGas</th>\n",
              "      <th>Density</th>\n",
              "      <th>Region</th>\n",
              "      <th>target_regression</th>\n",
              "      <th>target_classification</th>\n",
              "    </tr>\n",
              "  </thead>\n",
              "  <tbody>\n",
              "    <tr>\n",
              "      <th>0</th>\n",
              "      <td>1124750</td>\n",
              "      <td>0.74</td>\n",
              "      <td>C</td>\n",
              "      <td>5.0</td>\n",
              "      <td>10.0</td>\n",
              "      <td>50.0</td>\n",
              "      <td>50.0</td>\n",
              "      <td>B2</td>\n",
              "      <td>Regular</td>\n",
              "      <td>182.0</td>\n",
              "      <td>R82</td>\n",
              "      <td>0.0</td>\n",
              "      <td>0</td>\n",
              "    </tr>\n",
              "    <tr>\n",
              "      <th>1</th>\n",
              "      <td>516531</td>\n",
              "      <td>0.78</td>\n",
              "      <td>C</td>\n",
              "      <td>6.0</td>\n",
              "      <td>5.0</td>\n",
              "      <td>40.0</td>\n",
              "      <td>50.0</td>\n",
              "      <td>NaN</td>\n",
              "      <td>Diesel</td>\n",
              "      <td>262.0</td>\n",
              "      <td>R93</td>\n",
              "      <td>0.0</td>\n",
              "      <td>0</td>\n",
              "    </tr>\n",
              "    <tr>\n",
              "      <th>2</th>\n",
              "      <td>922566</td>\n",
              "      <td>1.00</td>\n",
              "      <td>E</td>\n",
              "      <td>4.0</td>\n",
              "      <td>12.0</td>\n",
              "      <td>33.0</td>\n",
              "      <td>50.0</td>\n",
              "      <td>B3</td>\n",
              "      <td>Diesel</td>\n",
              "      <td>3103.0</td>\n",
              "      <td>R82</td>\n",
              "      <td>0.0</td>\n",
              "      <td>0</td>\n",
              "    </tr>\n",
              "    <tr>\n",
              "      <th>3</th>\n",
              "      <td>335537</td>\n",
              "      <td>NaN</td>\n",
              "      <td>D</td>\n",
              "      <td>4.0</td>\n",
              "      <td>16.0</td>\n",
              "      <td>40.0</td>\n",
              "      <td>100.0</td>\n",
              "      <td>B2</td>\n",
              "      <td>Regular</td>\n",
              "      <td>1313.0</td>\n",
              "      <td>R24</td>\n",
              "      <td>0.0</td>\n",
              "      <td>0</td>\n",
              "    </tr>\n",
              "    <tr>\n",
              "      <th>4</th>\n",
              "      <td>1355191</td>\n",
              "      <td>0.34</td>\n",
              "      <td>B</td>\n",
              "      <td>7.0</td>\n",
              "      <td>7.0</td>\n",
              "      <td>42.0</td>\n",
              "      <td>156.0</td>\n",
              "      <td>B5</td>\n",
              "      <td>Regular</td>\n",
              "      <td>57.0</td>\n",
              "      <td>R24</td>\n",
              "      <td>0.0</td>\n",
              "      <td>0</td>\n",
              "    </tr>\n",
              "  </tbody>\n",
              "</table>\n",
              "</div>"
            ],
            "text/plain": [
              "     IDpol  Exposure Area  ...  Region  target_regression  target_classification\n",
              "0  1124750      0.74    C  ...     R82                0.0                      0\n",
              "1   516531      0.78    C  ...     R93                0.0                      0\n",
              "2   922566      1.00    E  ...     R82                0.0                      0\n",
              "3   335537       NaN    D  ...     R24                0.0                      0\n",
              "4  1355191      0.34    B  ...     R24                0.0                      0\n",
              "\n",
              "[5 rows x 13 columns]"
            ]
          },
          "metadata": {
            "tags": []
          },
          "execution_count": 6
        }
      ]
    },
    {
      "cell_type": "code",
      "metadata": {
        "id": "2d2h6NNqbS8R"
      },
      "source": [
        "numeric = train.loc[:,train.dtypes == float].columns[:-1]\n",
        "categorical = train.loc[:,train.dtypes == object].columns"
      ],
      "execution_count": null,
      "outputs": []
    },
    {
      "cell_type": "code",
      "metadata": {
        "colab": {
          "base_uri": "https://localhost:8080/"
        },
        "id": "9yafvB3fYFPO",
        "outputId": "3ea0b6ac-9cb0-4fd3-9dd3-55bbe89330a1"
      },
      "source": [
        "train.info()"
      ],
      "execution_count": null,
      "outputs": [
        {
          "output_type": "stream",
          "text": [
            "<class 'pandas.core.frame.DataFrame'>\n",
            "RangeIndex: 339006 entries, 0 to 339005\n",
            "Data columns (total 13 columns):\n",
            " #   Column                 Non-Null Count   Dtype  \n",
            "---  ------                 --------------   -----  \n",
            " 0   IDpol                  339006 non-null  int64  \n",
            " 1   Exposure               305106 non-null  float64\n",
            " 2   Area                   305106 non-null  object \n",
            " 3   VehPower               305106 non-null  float64\n",
            " 4   VehAge                 305106 non-null  float64\n",
            " 5   DrivAge                305106 non-null  float64\n",
            " 6   BonusMalus             305106 non-null  float64\n",
            " 7   VehBrand               305106 non-null  object \n",
            " 8   VehGas                 305106 non-null  object \n",
            " 9   Density                339006 non-null  float64\n",
            " 10  Region                 339006 non-null  object \n",
            " 11  target_regression      339006 non-null  float64\n",
            " 12  target_classification  339006 non-null  int64  \n",
            "dtypes: float64(7), int64(2), object(4)\n",
            "memory usage: 33.6+ MB\n"
          ],
          "name": "stdout"
        }
      ]
    },
    {
      "cell_type": "markdown",
      "metadata": {
        "id": "UtaWpQAQWDzw"
      },
      "source": [
        "Так как в данных есть пропуски, то стоит обработать их. В вещественных признаках заменим на медиану, так как она больше устойчива к выбросам, а категориальные на наиболее представленный класс в признаке"
      ]
    },
    {
      "cell_type": "code",
      "metadata": {
        "id": "FMCwRayHJnEQ"
      },
      "source": [
        "from collections import Counter\n",
        "def imputer(data, numeric_columns, categorical_columns):\n",
        "  data[numeric_columns] = data[numeric_columns].fillna(data[numeric_columns].median())\n",
        "  most_common = np.array(list(map(lambda x: Counter(x).most_common(1), data[categorical_columns].values.T))).T[0][0]\n",
        "  most_common = pd.Series(most_common,index=data[categorical_columns].columns)\n",
        "  data[categorical_columns] = data[categorical_columns].fillna(most_common)\n",
        "  return data"
      ],
      "execution_count": null,
      "outputs": []
    },
    {
      "cell_type": "code",
      "metadata": {
        "id": "_LlQikNAKWSK"
      },
      "source": [
        "train = imputer(train,numeric,categorical)"
      ],
      "execution_count": null,
      "outputs": []
    },
    {
      "cell_type": "code",
      "metadata": {
        "colab": {
          "base_uri": "https://localhost:8080/"
        },
        "id": "LXSF-ovTsh76",
        "outputId": "199194ab-72c9-49da-eb8f-845db25b6ae8"
      },
      "source": [
        "train.info()"
      ],
      "execution_count": null,
      "outputs": [
        {
          "output_type": "stream",
          "text": [
            "<class 'pandas.core.frame.DataFrame'>\n",
            "RangeIndex: 339006 entries, 0 to 339005\n",
            "Data columns (total 13 columns):\n",
            " #   Column                 Non-Null Count   Dtype  \n",
            "---  ------                 --------------   -----  \n",
            " 0   IDpol                  339006 non-null  int64  \n",
            " 1   Exposure               339006 non-null  float64\n",
            " 2   Area                   339006 non-null  object \n",
            " 3   VehPower               339006 non-null  float64\n",
            " 4   VehAge                 339006 non-null  float64\n",
            " 5   DrivAge                339006 non-null  float64\n",
            " 6   BonusMalus             339006 non-null  float64\n",
            " 7   VehBrand               339006 non-null  object \n",
            " 8   VehGas                 339006 non-null  object \n",
            " 9   Density                339006 non-null  float64\n",
            " 10  Region                 339006 non-null  object \n",
            " 11  target_regression      339006 non-null  float64\n",
            " 12  target_classification  339006 non-null  int64  \n",
            "dtypes: float64(7), int64(2), object(4)\n",
            "memory usage: 33.6+ MB\n"
          ],
          "name": "stdout"
        }
      ]
    },
    {
      "cell_type": "markdown",
      "metadata": {
        "id": "WmBsojUK5dMo"
      },
      "source": [
        "Построим ящик с усами, чтобы посмотреть, есть ли в данных выбросы. Заменим их на медианыные значения"
      ]
    },
    {
      "cell_type": "code",
      "metadata": {
        "colab": {
          "base_uri": "https://localhost:8080/",
          "height": 361
        },
        "id": "cVYoZDz6yxgp",
        "outputId": "0ebd8bd7-195a-408e-f9d4-092ff1539a21"
      },
      "source": [
        "import matplotlib.pyplot as plt\n",
        "fig, ax = plt.subplots(1,6, figsize=(30,6))\n",
        "plt.subplots_adjust(wspace=0.3, hspace=0)\n",
        "for i,column in enumerate(train[numeric].columns):\n",
        "  sns.boxplot(y = train[column], orient='v',ax=ax[i],palette=\"pastel\", data = train)"
      ],
      "execution_count": null,
      "outputs": [
        {
          "output_type": "display_data",
          "data": {
            "image/png": "[encoded data removed]",
            "text/plain": [
              "<Figure size 2160x432 with 6 Axes>"
            ]
          },
          "metadata": {
            "tags": [],
            "needs_background": "light"
          }
        }
      ]
    },
    {
      "cell_type": "code",
      "metadata": {
        "colab": {
          "base_uri": "https://localhost:8080/",
          "height": 297
        },
        "id": "ePKmOgWqTcly",
        "outputId": "0db79186-523f-4cfb-db32-5d8edea87340"
      },
      "source": [
        "train.describe()"
      ],
      "execution_count": null,
      "outputs": [
        {
          "output_type": "execute_result",
          "data": {
            "text/html": [
              "<div>\n",
              "<style scoped>\n",
              "    .dataframe tbody tr th:only-of-type {\n",
              "        vertical-align: middle;\n",
              "    }\n",
              "\n",
              "    .dataframe tbody tr th {\n",
              "        vertical-align: top;\n",
              "    }\n",
              "\n",
              "    .dataframe thead th {\n",
              "        text-align: right;\n",
              "    }\n",
              "</style>\n",
              "<table border=\"1\" class=\"dataframe\">\n",
              "  <thead>\n",
              "    <tr style=\"text-align: right;\">\n",
              "      <th></th>\n",
              "      <th>IDpol</th>\n",
              "      <th>Exposure</th>\n",
              "      <th>VehPower</th>\n",
              "      <th>VehAge</th>\n",
              "      <th>DrivAge</th>\n",
              "      <th>BonusMalus</th>\n",
              "      <th>Density</th>\n",
              "      <th>target_regression</th>\n",
              "      <th>target_classification</th>\n",
              "    </tr>\n",
              "  </thead>\n",
              "  <tbody>\n",
              "    <tr>\n",
              "      <th>count</th>\n",
              "      <td>3.390060e+05</td>\n",
              "      <td>339006.000000</td>\n",
              "      <td>339006.000000</td>\n",
              "      <td>339006.000000</td>\n",
              "      <td>339006.000000</td>\n",
              "      <td>339006.000000</td>\n",
              "      <td>339006.000000</td>\n",
              "      <td>3.390060e+05</td>\n",
              "      <td>339006.000000</td>\n",
              "    </tr>\n",
              "    <tr>\n",
              "      <th>mean</th>\n",
              "      <td>1.019124e+06</td>\n",
              "      <td>0.524352</td>\n",
              "      <td>6.409069</td>\n",
              "      <td>6.948567</td>\n",
              "      <td>45.333357</td>\n",
              "      <td>58.799709</td>\n",
              "      <td>1787.988977</td>\n",
              "      <td>8.090232e+01</td>\n",
              "      <td>0.050235</td>\n",
              "    </tr>\n",
              "    <tr>\n",
              "      <th>std</th>\n",
              "      <td>5.883838e+05</td>\n",
              "      <td>0.345643</td>\n",
              "      <td>1.947610</td>\n",
              "      <td>5.389452</td>\n",
              "      <td>13.419513</td>\n",
              "      <td>15.150538</td>\n",
              "      <td>3940.876176</td>\n",
              "      <td>3.011104e+03</td>\n",
              "      <td>0.218430</td>\n",
              "    </tr>\n",
              "    <tr>\n",
              "      <th>min</th>\n",
              "      <td>0.000000e+00</td>\n",
              "      <td>0.002732</td>\n",
              "      <td>4.000000</td>\n",
              "      <td>0.000000</td>\n",
              "      <td>18.000000</td>\n",
              "      <td>50.000000</td>\n",
              "      <td>1.000000</td>\n",
              "      <td>0.000000e+00</td>\n",
              "      <td>0.000000</td>\n",
              "    </tr>\n",
              "    <tr>\n",
              "      <th>25%</th>\n",
              "      <td>5.098405e+05</td>\n",
              "      <td>0.210000</td>\n",
              "      <td>5.000000</td>\n",
              "      <td>3.000000</td>\n",
              "      <td>35.000000</td>\n",
              "      <td>50.000000</td>\n",
              "      <td>92.000000</td>\n",
              "      <td>0.000000e+00</td>\n",
              "      <td>0.000000</td>\n",
              "    </tr>\n",
              "    <tr>\n",
              "      <th>50%</th>\n",
              "      <td>1.019928e+06</td>\n",
              "      <td>0.490000</td>\n",
              "      <td>6.000000</td>\n",
              "      <td>6.000000</td>\n",
              "      <td>44.000000</td>\n",
              "      <td>50.000000</td>\n",
              "      <td>393.000000</td>\n",
              "      <td>0.000000e+00</td>\n",
              "      <td>0.000000</td>\n",
              "    </tr>\n",
              "    <tr>\n",
              "      <th>75%</th>\n",
              "      <td>1.528736e+06</td>\n",
              "      <td>0.910000</td>\n",
              "      <td>7.000000</td>\n",
              "      <td>10.000000</td>\n",
              "      <td>53.000000</td>\n",
              "      <td>63.000000</td>\n",
              "      <td>1662.000000</td>\n",
              "      <td>0.000000e+00</td>\n",
              "      <td>0.000000</td>\n",
              "    </tr>\n",
              "    <tr>\n",
              "      <th>max</th>\n",
              "      <td>2.034037e+06</td>\n",
              "      <td>2.010000</td>\n",
              "      <td>15.000000</td>\n",
              "      <td>100.000000</td>\n",
              "      <td>100.000000</td>\n",
              "      <td>198.000000</td>\n",
              "      <td>27000.000000</td>\n",
              "      <td>1.404186e+06</td>\n",
              "      <td>1.000000</td>\n",
              "    </tr>\n",
              "  </tbody>\n",
              "</table>\n",
              "</div>"
            ],
            "text/plain": [
              "              IDpol       Exposure  ...  target_regression  target_classification\n",
              "count  3.390060e+05  339006.000000  ...       3.390060e+05          339006.000000\n",
              "mean   1.019124e+06       0.524352  ...       8.090232e+01               0.050235\n",
              "std    5.883838e+05       0.345643  ...       3.011104e+03               0.218430\n",
              "min    0.000000e+00       0.002732  ...       0.000000e+00               0.000000\n",
              "25%    5.098405e+05       0.210000  ...       0.000000e+00               0.000000\n",
              "50%    1.019928e+06       0.490000  ...       0.000000e+00               0.000000\n",
              "75%    1.528736e+06       0.910000  ...       0.000000e+00               0.000000\n",
              "max    2.034037e+06       2.010000  ...       1.404186e+06               1.000000\n",
              "\n",
              "[8 rows x 9 columns]"
            ]
          },
          "metadata": {
            "tags": []
          },
          "execution_count": 13
        }
      ]
    },
    {
      "cell_type": "code",
      "metadata": {
        "id": "57LK8OMkfG1t"
      },
      "source": [
        "def outliers(dataset):\n",
        "  data = dataset.copy(deep = True)\n",
        "  description = data.describe()\n",
        "  max = description.iloc[-2,:]+2*description.iloc[2,:]\n",
        "  min = description.iloc[3,:]-2*description.iloc[2,:]\n",
        "  median = train[numeric].median()\n",
        "  for i,column in enumerate(data):\n",
        "    data[column][data[column]>max[i]] = median[i]\n",
        "    data[column][data[column]<min[i]] = median[i]\n",
        "  return data"
      ],
      "execution_count": null,
      "outputs": []
    },
    {
      "cell_type": "code",
      "metadata": {
        "id": "gyQSbxapI4Ir"
      },
      "source": [
        "train[numeric] = outliers(train[numeric])"
      ],
      "execution_count": null,
      "outputs": []
    },
    {
      "cell_type": "markdown",
      "metadata": {
        "id": "WhB2S7w_g3NT"
      },
      "source": [
        "# Конец класса"
      ]
    },
    {
      "cell_type": "markdown",
      "metadata": {
        "id": "lzJT3Sl0WYQO"
      },
      "source": [
        "После замены выбросов можно видеть, что в некоторых признаков, где изначально был большой разброс данных с новым пересчетом медианы выбросы остались. Построим ящик с усами с повторным удалением выбросов."
      ]
    },
    {
      "cell_type": "code",
      "metadata": {
        "colab": {
          "base_uri": "https://localhost:8080/",
          "height": 361
        },
        "id": "-liIZriyMWeW",
        "outputId": "98eacf10-1384-43d6-98a8-0f52c805ee09"
      },
      "source": [
        "fig, ax = plt.subplots(1,6, figsize=(30,6))\n",
        "plt.subplots_adjust(wspace=0.3, hspace=0)\n",
        "for i,column in enumerate(train[numeric].columns):\n",
        "  sns.boxplot(y = train[column], orient='v',ax=ax[i],palette=\"pastel\", data = train)"
      ],
      "execution_count": null,
      "outputs": [
        {
          "output_type": "display_data",
          "data": {
            "image/png": "[encoded data removed]",
            "text/plain": [
              "<Figure size 2160x432 with 6 Axes>"
            ]
          },
          "metadata": {
            "tags": [],
            "needs_background": "light"
          }
        }
      ]
    },
    {
      "cell_type": "markdown",
      "metadata": {
        "id": "aiwL2Cb7UXFJ"
      },
      "source": [
        "Так как после вторичногог удаления выбросов они остались при новом пересчете квартилей, я решила остановиться на первом варианте и не смещать распределение данных слишком сильно. "
      ]
    },
    {
      "cell_type": "code",
      "metadata": {
        "colab": {
          "base_uri": "https://localhost:8080/",
          "height": 361
        },
        "id": "aQlGp8qNUCFE",
        "outputId": "02496042-209e-4407-fbb7-d08a9f88e428"
      },
      "source": [
        "subtrain = train.copy(deep = True)\n",
        "# out = Outliers()\n",
        "subtrain[numeric]= outliers(subtrain[numeric])\n",
        "fig, ax = plt.subplots(1,6, figsize=(30,6))\n",
        "plt.subplots_adjust(wspace=0.3, hspace=0)\n",
        "for i,column in enumerate(subtrain[numeric].columns):\n",
        "  sns.boxplot(y = subtrain[column], orient='v',ax=ax[i],palette=\"pastel\", data = subtrain)"
      ],
      "execution_count": null,
      "outputs": [
        {
          "output_type": "display_data",
          "data": {
            "image/png": "[encoded data removed]",
            "text/plain": [
              "<Figure size 2160x432 with 6 Axes>"
            ]
          },
          "metadata": {
            "tags": [],
            "needs_background": "light"
          }
        }
      ]
    },
    {
      "cell_type": "markdown",
      "metadata": {
        "id": "aHk7UQulm80b"
      },
      "source": [
        "Так как IDpol - уникальный идентификатор, то его можно удалить"
      ]
    },
    {
      "cell_type": "code",
      "metadata": {
        "colab": {
          "base_uri": "https://localhost:8080/"
        },
        "id": "eaLQzzWFmfVD",
        "outputId": "dc75b788-f8ab-4f6d-faec-b556e70f5a3a"
      },
      "source": [
        "len(train.iloc[:,0].unique()) == len(train.iloc[:,0])"
      ],
      "execution_count": null,
      "outputs": [
        {
          "output_type": "execute_result",
          "data": {
            "text/plain": [
              "True"
            ]
          },
          "metadata": {
            "tags": []
          },
          "execution_count": 18
        }
      ]
    },
    {
      "cell_type": "code",
      "metadata": {
        "id": "S-KSMznQma4K"
      },
      "source": [
        "train = train.drop(train.columns[0],axis = 1)"
      ],
      "execution_count": null,
      "outputs": []
    },
    {
      "cell_type": "code",
      "metadata": {
        "id": "qnY8iBhBdXQv"
      },
      "source": [
        "y_classification = train['target_classification']\n",
        "y_regression = train ['target_regression']\n",
        "X = train.drop(columns= ['target_regression',\t'target_classification'])"
      ],
      "execution_count": null,
      "outputs": []
    },
    {
      "cell_type": "markdown",
      "metadata": {
        "id": "CzL0UBDXzwD4"
      },
      "source": [
        "# EDA \n",
        "Посмотрим на распределение тренировочных и тестовых данных, чтобы можно было быть уверенным, что мы можем равнозначно учитывать признаки при построении модели, что применение модели на тестовых данных будет предсказуемым.\n",
        "\n",
        " Данные на тренировочной выборке немного смещенно, так как они очищены от выбросов. Можно быть почти уверенным, что предсказание на тесте будет близким к предсказанию на валидационной выборке"
      ]
    },
    {
      "cell_type": "code",
      "metadata": {
        "colab": {
          "base_uri": "https://localhost:8080/",
          "height": 449
        },
        "id": "o5ehrBdv8Mcp",
        "outputId": "a3d82c6c-69d3-4fe8-fe83-a52089a170af"
      },
      "source": [
        "fig, ax = plt.subplots(2,6,figsize=(35,8))\n",
        "plt.subplots_adjust(wspace=0.3, hspace=0.3)\n",
        "for i,column in enumerate(numeric):\n",
        "  sns.kdeplot(train.loc[:,column], ax = ax[0][i])\n",
        "  sns.kdeplot(test.loc[:,column], ax = ax[1][i])"
      ],
      "execution_count": null,
      "outputs": [
        {
          "output_type": "display_data",
          "data": {
            "image/png": "[encoded data removed]",
            "text/plain": [
              "<Figure size 2520x576 with 12 Axes>"
            ]
          },
          "metadata": {
            "tags": [],
            "needs_background": "light"
          }
        }
      ]
    },
    {
      "cell_type": "markdown",
      "metadata": {
        "id": "LhP93brtnM-S"
      },
      "source": [
        "По каждой из категориальных переменных можно видеть одинаковое распределение по классам, то есть ни одна из категориальных переменных сильно не коррелирует с целевой переменной"
      ]
    },
    {
      "cell_type": "code",
      "metadata": {
        "colab": {
          "base_uri": "https://localhost:8080/",
          "height": 350
        },
        "id": "LiPf63qPh_aY",
        "outputId": "f46ebfb5-f5c2-4179-812c-6382c0fffce7"
      },
      "source": [
        "fig, ax = plt.subplots(1,4,figsize=(27,5))\n",
        "plt.subplots_adjust(wspace=0.3, hspace=0)\n",
        "for i in range(4):\n",
        "  sns.histplot(x=train[categorical].iloc[:,i], hue='target_classification', data=train, ax = ax[i])\n",
        "  ax[3].set_xticklabels(train['Region'].unique(),rotation=60)"
      ],
      "execution_count": null,
      "outputs": [
        {
          "output_type": "display_data",
          "data": {
            "image/png": "[encoded data removed]",
            "text/plain": [
              "<Figure size 1944x360 with 4 Axes>"
            ]
          },
          "metadata": {
            "tags": [],
            "needs_background": "light"
          }
        }
      ]
    },
    {
      "cell_type": "markdown",
      "metadata": {
        "id": "LotIMQvPrzA2"
      },
      "source": [
        "Видно, что значительной корреляции признаков между собой и с целевой переменной нет, поэтому на этом этапе ни один из признаков удалить нельзя."
      ]
    },
    {
      "cell_type": "code",
      "metadata": {
        "colab": {
          "base_uri": "https://localhost:8080/",
          "height": 536
        },
        "id": "J54RTKykZ1vp",
        "outputId": "5a5a112a-ab9c-456e-84b5-4e0e5da3c666"
      },
      "source": [
        "plt.figure(figsize=(10, 7))\n",
        "sns.heatmap(train.corr(),annot = True,mask=np.triu(train.corr()),)"
      ],
      "execution_count": null,
      "outputs": [
        {
          "output_type": "execute_result",
          "data": {
            "text/plain": [
              "<matplotlib.axes._subplots.AxesSubplot at 0x7f4bb666bad0>"
            ]
          },
          "metadata": {
            "tags": []
          },
          "execution_count": 23
        },
        {
          "output_type": "display_data",
          "data": {
            "image/png": "[encoded data removed]",
            "text/plain": [
              "<Figure size 720x504 with 2 Axes>"
            ]
          },
          "metadata": {
            "tags": [],
            "needs_background": "light"
          }
        }
      ]
    },
    {
      "cell_type": "markdown",
      "metadata": {
        "id": "DiKHOEw9vMcA"
      },
      "source": [
        "# Генерация и отбор признаков"
      ]
    },
    {
      "cell_type": "markdown",
      "metadata": {
        "id": "8BsGWUr8sUdR"
      },
      "source": [
        "Здесь проверяется гипотеза, существует ли какая-либо зависимость пар признаков от целевой переменной классификации. Апсемплинг делается для того, чтобы доля 1-го класса на графике была заметной. График строится таким образом, что при формировании групп объектов, которые преимущественно какого-то класса, происходит их графическое разделение, как на картинке здесь: https://seaborn.pydata.org/_images/histplot_41_0.png\n",
        "\n",
        "Так как этого разделения не произошло, в документации это объясняется тем, что объекты по сгруппированному  признаку слишком смешаны, из чего следует вывод, что преобладание объектов с комбинацией каких-либо двух признаков в каком-то конкретном классе не наблюдается"
      ]
    },
    {
      "cell_type": "code",
      "metadata": {
        "id": "vdBrvS4rtOXa"
      },
      "source": [
        "uped = train[train['target_classification']==1]\n",
        "for i in range(35):  \n",
        "  length = len(train[train['target_classification']==1])\n",
        "  rand = np.random.choice(length,size = int(length/2))\n",
        "  uped = pd.concat([train[train['target_classification']==1].reset_index().iloc[rand,:],uped])\n",
        "upsampled = pd.concat([uped, train])"
      ],
      "execution_count": null,
      "outputs": []
    },
    {
      "cell_type": "code",
      "metadata": {
        "colab": {
          "base_uri": "https://localhost:8080/",
          "height": 551
        },
        "id": "FVRprBRXfrFJ",
        "outputId": "187b8364-b43a-4826-c0c4-9e4582027e04"
      },
      "source": [
        "fig, ax = plt.subplots(2,3,figsize=(20,9))\n",
        "plt.subplots_adjust(wspace=0.3, hspace=0.3)\n",
        "k = 0\n",
        "for i in range(3):\n",
        "  for j in range(3):\n",
        "    if i == j:\n",
        "      continue\n",
        "    sns.histplot(x=upsampled[categorical].iloc[:,i],y=upsampled[categorical].iloc[:,j], data=upsampled, ax=ax[k//3][k%3], hue = 'target_classification')\n",
        "    k+=1"
      ],
      "execution_count": null,
      "outputs": [
        {
          "output_type": "display_data",
          "data": {
            "image/png": "[encoded data removed]",
            "text/plain": [
              "<Figure size 1440x648 with 6 Axes>"
            ]
          },
          "metadata": {
            "tags": [],
            "needs_background": "light"
          }
        }
      ]
    },
    {
      "cell_type": "markdown",
      "metadata": {
        "id": "kOwz6r12uIJU"
      },
      "source": [
        "Распределение в апсемплированных данных каждого признака по целевой переменной тоже схоже"
      ]
    },
    {
      "cell_type": "code",
      "metadata": {
        "colab": {
          "base_uri": "https://localhost:8080/",
          "height": 346
        },
        "id": "WGh9rFd3zUGT",
        "outputId": "261764a0-348e-4fbf-e62f-34f5f8b900f7"
      },
      "source": [
        "fig, ax = plt.subplots(1,4,figsize=(27,5))\n",
        "plt.subplots_adjust(wspace=0.3, hspace=0)\n",
        "for i in range(4):\n",
        "  sns.histplot(x=upsampled[categorical].iloc[:,i], hue='target_classification', data=upsampled, ax = ax[i])\n",
        "  ax[3].set_xticklabels(train['Region'].unique(),rotation=60)"
      ],
      "execution_count": null,
      "outputs": [
        {
          "output_type": "display_data",
          "data": {
            "image/png": "[encoded data removed]",
            "text/plain": [
              "<Figure size 1944x360 with 4 Axes>"
            ]
          },
          "metadata": {
            "tags": [],
            "needs_background": "light"
          }
        }
      ]
    },
    {
      "cell_type": "markdown",
      "metadata": {
        "id": "61fZYfNLo0lK"
      },
      "source": [
        "Так как у признака Exposure слишком маленькая дисперсия, его распределение близко к константному, значит он почти не влияет на трагет, поэтому его можно удалить. Однако прлогарифмировав признак можно получить дисперсию, сравнимую с дисперсией других признаков "
      ]
    },
    {
      "cell_type": "code",
      "metadata": {
        "colab": {
          "base_uri": "https://localhost:8080/"
        },
        "id": "Q4tV-B0SpXeQ",
        "outputId": "b7ebab2b-455f-407d-fc2c-cd216f14ff10"
      },
      "source": [
        "print(np.var(train[numeric]+0.00001), np.var(np.log(train[numeric]+0.00001)),sep = '\\n\\n')"
      ],
      "execution_count": null,
      "outputs": [
        {
          "output_type": "stream",
          "text": [
            "Exposure      1.193889e-01\n",
            "VehPower      2.222721e+00\n",
            "VehAge        2.440184e+01\n",
            "DrivAge       1.645253e+02\n",
            "BonusMalus    1.128391e+02\n",
            "Density       3.402557e+06\n",
            "dtype: float64\n",
            "\n",
            "Exposure       1.231639\n",
            "VehPower       0.057660\n",
            "VehAge        13.010836\n",
            "DrivAge        0.087421\n",
            "BonusMalus     0.027644\n",
            "Density        3.054709\n",
            "dtype: float64\n"
          ],
          "name": "stdout"
        }
      ]
    },
    {
      "cell_type": "code",
      "metadata": {
        "colab": {
          "base_uri": "https://localhost:8080/",
          "height": 404
        },
        "id": "BvszMPRUgPvw",
        "outputId": "61d7e711-2cea-4368-b380-2b050d3e2cb0"
      },
      "source": [
        "fig, ax = plt.subplots(1,2,figsize=(15,6))\n",
        "plt.subplots_adjust(wspace=0.3, hspace=0.3)\n",
        "for i,x in enumerate([train.Exposure,np.log(train.Exposure)]):  \n",
        "  sns.kdeplot(x,ax=ax[i])\n",
        "ax[1] = plt.title('log(Exposure)')\n",
        "ax[0] = plt.title('Exposure')"
      ],
      "execution_count": null,
      "outputs": [
        {
          "output_type": "display_data",
          "data": {
            "image/png": "[encoded data removed]",
            "text/plain": [
              "<Figure size 1080x432 with 2 Axes>"
            ]
          },
          "metadata": {
            "tags": [],
            "needs_background": "light"
          }
        }
      ]
    },
    {
      "cell_type": "markdown",
      "metadata": {
        "id": "xgmB2pwitKaV"
      },
      "source": [
        "В данных есть признаки VehAge и DrivAge, которые показывают возраст водителя и автомобиля. Есть смысл возрастные переменные перекодировать в промежутки (20-30; 30-40..), однако это будет сделано после разделения выборки на тренировочную и тестовую "
      ]
    },
    {
      "cell_type": "markdown",
      "metadata": {
        "id": "T7wQ66aZvLsG"
      },
      "source": [
        "# Преобразование данных"
      ]
    },
    {
      "cell_type": "markdown",
      "metadata": {
        "id": "lrJ9cAULvbyX"
      },
      "source": [
        "Класс для обработки выбросов, чтобы была возможность вставить его в pipeline"
      ]
    },
    {
      "cell_type": "code",
      "metadata": {
        "id": "q6djmV1DQlAh"
      },
      "source": [
        "from sklearn.pipeline import Pipeline\n",
        "from sklearn.preprocessing import OneHotEncoder, KBinsDiscretizer, StandardScaler, FunctionTransformer\n",
        "from sklearn.impute import SimpleImputer\n",
        "from sklearn.svm import SVR, LinearSVR\n",
        "from sklearn.compose import ColumnTransformer\n",
        "from sklearn.model_selection import GridSearchCV, train_test_split\n",
        "from sklearn.cluster import KMeans\n",
        "from sklearn.decomposition import PCA"
      ],
      "execution_count": null,
      "outputs": []
    },
    {
      "cell_type": "code",
      "metadata": {
        "id": "LJz5K3sSIrTI"
      },
      "source": [
        "# uped = train[train['target_classification']==1]\n",
        "# for i in range(35):  \n",
        "#   length = len(train[train['target_classification']==1])\n",
        "#   rand = np.random.choice(length,size = int(length/2))\n",
        "#   uped = pd.concat([train[train['target_classification']==1].reset_index().iloc[rand,:],uped])\n",
        "# upsampled = pd.concat([uped, train])"
      ],
      "execution_count": null,
      "outputs": []
    },
    {
      "cell_type": "code",
      "metadata": {
        "id": "lV2xRAjZIsx6"
      },
      "source": [
        "# y_classification_upsampled = upsampled.target_classification\n",
        "# y_regression_upsampled = upsampled.target_classification\n",
        "# upsampled = upsampled.iloc[:,[1,2,3,4,5,6,7,8,9,10]]"
      ],
      "execution_count": null,
      "outputs": []
    },
    {
      "cell_type": "code",
      "metadata": {
        "id": "ZffhQ0FVJPkO"
      },
      "source": [
        "# X_train,X_test,y_train,y_test = train_test_split(upsampled, y_classification_upsampled, test_size = 0.2, random_state=42)"
      ],
      "execution_count": null,
      "outputs": []
    },
    {
      "cell_type": "code",
      "metadata": {
        "id": "aEG1RZMB9Qb2"
      },
      "source": [
        "# X_train,X_test,y_train,y_test = train_test_split(X, y_regression, test_size = 0.2, random_state=42)"
      ],
      "execution_count": null,
      "outputs": []
    },
    {
      "cell_type": "code",
      "metadata": {
        "id": "B708EUoKF6wt"
      },
      "source": [
        "X_train,X_test,y_train,y_test = train_test_split(train, y_classification, test_size = 0.2, random_state=42,stratify = train.target_classification)"
      ],
      "execution_count": null,
      "outputs": []
    },
    {
      "cell_type": "code",
      "metadata": {
        "id": "eQjk16cGMpHP"
      },
      "source": [
        ""
      ],
      "execution_count": null,
      "outputs": []
    },
    {
      "cell_type": "code",
      "metadata": {
        "id": "rIYwI22lLItr"
      },
      "source": [
        "uped = train[train['target_classification']==1]\n",
        "for i in range(38):  \n",
        "  length = len(X_train[X_train['target_classification']==1])\n",
        "  rand = np.random.choice(length,size = int(length/2))\n",
        "  uped = pd.concat([X_train[X_train['target_classification']==1].reset_index().iloc[rand,:],uped])\n",
        "upsampled = pd.concat([uped, X_train])"
      ],
      "execution_count": null,
      "outputs": []
    },
    {
      "cell_type": "code",
      "metadata": {
        "id": "txgGXRCZLV0m"
      },
      "source": [
        "y_train= upsampled.target_classification\n",
        "y_regression_upsampled = upsampled.target_regression\n",
        "X_train = upsampled.iloc[:,[1,2,3,4,5,6,7,8,9,10]]"
      ],
      "execution_count": null,
      "outputs": []
    },
    {
      "cell_type": "code",
      "metadata": {
        "colab": {
          "base_uri": "https://localhost:8080/"
        },
        "id": "qhp4p1juLbwS",
        "outputId": "7a7d4b33-86a9-4b14-ec8b-1757ff4d0976"
      },
      "source": [
        "y_train.value_counts()"
      ],
      "execution_count": null,
      "outputs": [
        {
          "output_type": "execute_result",
          "data": {
            "text/plain": [
              "1    289510\n",
              "0    257580\n",
              "Name: target_classification, dtype: int64"
            ]
          },
          "metadata": {
            "tags": []
          },
          "execution_count": 137
        }
      ]
    },
    {
      "cell_type": "markdown",
      "metadata": {
        "id": "DeITIk4kzduM"
      },
      "source": [
        "## Полный pipeline"
      ]
    },
    {
      "cell_type": "code",
      "metadata": {
        "id": "1OQAIxztI3if"
      },
      "source": [
        "class Outliers:\n",
        "\n",
        "  def __init__(\n",
        "        self): \n",
        "    self.max = 0\n",
        "    self.min = 0\n",
        "    self.median = 0\n",
        "\n",
        "  def fit(self,dataset,y=None):\n",
        "    data = dataset.copy(deep = True)\n",
        "    description = data.describe()\n",
        "    self.max = description.iloc[-2,:]+2*description.iloc[2,:]\n",
        "    self.min = description.iloc[3,:]-2*description.iloc[2,:]\n",
        "    self.median = train[numeric].median()\n",
        "\n",
        "  def transform(self,dataset,y=None):  \n",
        "    data = dataset.copy(deep = True)\n",
        "    for i,column in enumerate(data):\n",
        "      data[column][data[column]>self.max[i]] = self.median[i]\n",
        "      data[column][data[column]<self.min[i]] = self.median[i]\n",
        "    return data\n",
        "\n",
        "  def fit_transform(self,dataset,y=None):\n",
        "    data = pd.DataFrame(dataset.copy())\n",
        "    description = data.describe()\n",
        "    self.max = description.iloc[-2,:]+2*description.iloc[2,:]\n",
        "    self.min = description.iloc[3,:]-2*description.iloc[2,:]\n",
        "    self.median = train[numeric].median()\n",
        "    for i,column in enumerate(data):\n",
        "      data[column][data[column]>self.max[i]] = self.median[i]\n",
        "      data[column][data[column]<self.min[i]] = self.median[i]\n",
        "    return data.values"
      ],
      "execution_count": null,
      "outputs": []
    },
    {
      "cell_type": "code",
      "metadata": {
        "id": "rYZNenm0GqLD"
      },
      "source": [
        "num = ['VehPower', 'BonusMalus', 'Density']\n",
        "\n",
        "log_scale = Pipeline(steps=[\n",
        "    ('log',FunctionTransformer(func=np.log)),\n",
        "    ('scaler',StandardScaler())])\n",
        "\n",
        "numeric_transformer = Pipeline(steps=[\n",
        "    ('imputer', SimpleImputer(strategy='median')),\n",
        "    ('outliers', Outliers()),\n",
        "    ('scaler', StandardScaler())])\n",
        "\n",
        "categorical_transformer = Pipeline(steps=[\n",
        "    ('imputer', SimpleImputer(strategy='most_frequent'))])\n",
        "\n",
        "preprocessor = ColumnTransformer(\n",
        "    transformers=[\n",
        "        ('cat', categorical_transformer, categorical),\n",
        "        ('ohe', OneHotEncoder(handle_unknown='ignore',sparse = False), categorical),\n",
        "        (\"kbin\", KBinsDiscretizer(encode='onehot',n_bins = 9, strategy = 'kmeans'),['VehAge', 'DrivAge']),\n",
        "        (\"log_scale\", log_scale,['Exposure']),          \n",
        "        ('num', numeric_transformer, num),\n",
        "        ], remainder='passthrough')\n",
        "#,\n",
        " #       ('ohe', OHE, categorical)], remainder='passthrough')\n",
        "\n",
        "ct=ColumnTransformer([('one_hot_encoder', OneHotEncoder(sparse=False),categorical)],   \n",
        "    remainder='passthrough')\n",
        "\n",
        "\n",
        "clf = Pipeline(steps=[('preprocessor', preprocessor),\n",
        "                      ('classifier', SVR())])"
      ],
      "execution_count": null,
      "outputs": []
    },
    {
      "cell_type": "markdown",
      "metadata": {
        "id": "ueeaQbeOzhua"
      },
      "source": [
        "## Pipeline для обработанных данных"
      ]
    },
    {
      "cell_type": "code",
      "metadata": {
        "id": "i-VibkPozbTc"
      },
      "source": [
        "num = ['VehPower', 'BonusMalus', 'Density', 'VehAge', 'DrivAge']\n",
        "\n",
        "log_scale = Pipeline(steps=[\n",
        "    ('log',FunctionTransformer(func=np.log)),\n",
        "    ('scaler',StandardScaler())])\n",
        "\n",
        "numeric_transformer = Pipeline(steps=[('scaler', StandardScaler())])\n",
        "\n",
        "\n",
        "preprocessor = ColumnTransformer(\n",
        "    transformers=[\n",
        "        ('ohe', OneHotEncoder(handle_unknown='ignore',sparse = False), categorical),\n",
        "        (\"log_scale\", log_scale,['Exposure']), \n",
        "        (\"kbin\", KBinsDiscretizer(encode='onehot',n_bins = 9, strategy = 'kmeans'),['VehAge', 'DrivAge']),\n",
        "        ('num', numeric_transformer, num),\n",
        "        ], remainder='passthrough')\n",
        "\n",
        "\n",
        "ct=ColumnTransformer([('one_hot_encoder', OneHotEncoder(sparse=False),categorical)],   \n",
        "    remainder='passthrough')\n",
        "\n",
        "\n",
        "clf = Pipeline(steps=[('preprocessor', preprocessor)])"
      ],
      "execution_count": null,
      "outputs": []
    },
    {
      "cell_type": "code",
      "metadata": {
        "id": "DANtSenry4pe"
      },
      "source": [
        "preprocessor.fit(X_train)"
      ],
      "execution_count": null,
      "outputs": []
    },
    {
      "cell_type": "code",
      "metadata": {
        "id": "LniUPG2e12DZ"
      },
      "source": [
        "X_train = preprocessor.transform(X_train)"
      ],
      "execution_count": null,
      "outputs": []
    },
    {
      "cell_type": "code",
      "metadata": {
        "id": "IbpyT02h-wvj"
      },
      "source": [
        "ohe_labels = preprocessor.transformers_[0][1].get_feature_names().tolist()\n",
        "kbin_labels = [ str(i) + '_' + str(j) for i in ['VehAge', 'DrivAge'] for j in range(9)]\n",
        "labels = ohe_labels+ ['Exposure'] + kbin_labels  + num"
      ],
      "execution_count": null,
      "outputs": []
    },
    {
      "cell_type": "code",
      "metadata": {
        "id": "HUIDLgDd16eF"
      },
      "source": [
        "X_train = pd.DataFrame(X_train, columns=labels)"
      ],
      "execution_count": null,
      "outputs": []
    },
    {
      "cell_type": "markdown",
      "metadata": {
        "id": "MBNLb9R2CY9j"
      },
      "source": [
        "# Классификация"
      ]
    },
    {
      "cell_type": "code",
      "metadata": {
        "id": "h8slCdwoFkFH"
      },
      "source": [
        "!pip install catboost"
      ],
      "execution_count": null,
      "outputs": []
    },
    {
      "cell_type": "code",
      "metadata": {
        "id": "YYvO7ttoGbbh"
      },
      "source": [
        "from catboost import CatBoostClassifier\n",
        "model = CatBoostClassifier(iterations=300,\n",
        "                           depth=7,\n",
        "                           learning_rate=0.01,\n",
        "                           loss_function='Logloss',\n",
        "                           verbose=100, )"
      ],
      "execution_count": null,
      "outputs": []
    },
    {
      "cell_type": "code",
      "metadata": {
        "colab": {
          "base_uri": "https://localhost:8080/"
        },
        "id": "9tIMqKMeGFLC",
        "outputId": "d84b98d2-9bf5-426e-8b93-07dd364d832c"
      },
      "source": [
        "model.fit(X_train, y_train)"
      ],
      "execution_count": null,
      "outputs": [
        {
          "output_type": "stream",
          "text": [
            "0:\tlearn: 0.6926173\ttotal: 159ms\tremaining: 47.5s\n",
            "100:\tlearn: 0.6675064\ttotal: 13.8s\tremaining: 27.2s\n",
            "200:\tlearn: 0.6595945\ttotal: 27.5s\tremaining: 13.6s\n",
            "299:\tlearn: 0.6558242\ttotal: 41.2s\tremaining: 0us\n"
          ],
          "name": "stdout"
        },
        {
          "output_type": "execute_result",
          "data": {
            "text/plain": [
              "<catboost.core.CatBoostClassifier at 0x7f4ba0d31690>"
            ]
          },
          "metadata": {
            "tags": []
          },
          "execution_count": 146
        }
      ]
    },
    {
      "cell_type": "code",
      "metadata": {
        "id": "Ve49H5B4GjUK"
      },
      "source": [
        "from sklearn.metrics import roc_auc_score"
      ],
      "execution_count": null,
      "outputs": []
    },
    {
      "cell_type": "code",
      "metadata": {
        "colab": {
          "base_uri": "https://localhost:8080/"
        },
        "id": "7v11G9TvGFNP",
        "outputId": "c1b6eb1a-b528-47d6-b7ec-cf0147ca67db"
      },
      "source": [
        "predictions = model.predict(preprocessor.transform(X_test))\n",
        "roc_auc_score(y_test,predictions)"
      ],
      "execution_count": null,
      "outputs": [
        {
          "output_type": "stream",
          "text": [
            "/usr/local/lib/python3.7/dist-packages/sklearn/compose/_column_transformer.py:430: FutureWarning: Given feature/column names or counts do not match the ones for the data given during fit. This will fail from v0.24.\n",
            "  FutureWarning)\n"
          ],
          "name": "stderr"
        },
        {
          "output_type": "execute_result",
          "data": {
            "text/plain": [
              "0.5975235228865201"
            ]
          },
          "metadata": {
            "tags": []
          },
          "execution_count": 147
        }
      ]
    },
    {
      "cell_type": "code",
      "metadata": {
        "id": "iUJfS2qzHy8g"
      },
      "source": [
        "from sklearn.ensemble import RandomForestClassifier"
      ],
      "execution_count": null,
      "outputs": []
    },
    {
      "cell_type": "code",
      "metadata": {
        "colab": {
          "base_uri": "https://localhost:8080/"
        },
        "id": "cmIBujnZH36J",
        "outputId": "d69de076-90f2-4b6b-d2a5-1327d94c23cb"
      },
      "source": [
        "rf = RandomForestClassifier()\n",
        "rf.fit(X_train,y_train)\n",
        "predictions = rf.predict(preprocessor.transform(X_test))\n",
        "roc_auc_score(y_test,predictions)"
      ],
      "execution_count": null,
      "outputs": [
        {
          "output_type": "stream",
          "text": [
            "/usr/local/lib/python3.7/dist-packages/sklearn/compose/_column_transformer.py:430: FutureWarning: Given feature/column names or counts do not match the ones for the data given during fit. This will fail from v0.24.\n",
            "  FutureWarning)\n"
          ],
          "name": "stderr"
        },
        {
          "output_type": "execute_result",
          "data": {
            "text/plain": [
              "0.9924894991526484"
            ]
          },
          "metadata": {
            "tags": []
          },
          "execution_count": 143
        }
      ]
    },
    {
      "cell_type": "code",
      "metadata": {
        "id": "X-5T7EtHPBRn"
      },
      "source": [
        "# rf = RandomForestClassifier()\n",
        "# rf.fit(X_train,y_train)\n",
        "# predictions = rf.predict(preprocessor.transform(X_test))\n",
        "# roc_auc_score(y_test,predictions)\n",
        "\n",
        "params = {'n_estimators': np.arange(20,160,20),\n",
        "          'criterion': ['gini', 'entropy'],\n",
        "          'min_samples_leaf':np.arange(5)}\n",
        "# params = {'kernel_label' = ['RBF', 'Linear', 'Polynomial'],\n",
        "#           'svrs' = [svr_rbf, svr_lin, svr_poly]\n",
        "#           'epsilon'=[.1,0.01,0.001]\n",
        "# 'loss': ['epsilon_insensitive', 'squared_epsilon_insensitive']\n",
        "grid = GridSearchCV(RandomForestClassifier(random_state=42, oob_score = True), param_grid = params, cv = 5, verbose = 100, )"
      ],
      "execution_count": null,
      "outputs": []
    },
    {
      "cell_type": "code",
      "metadata": {
        "colab": {
          "base_uri": "https://localhost:8080/"
        },
        "id": "ssyHNa7hQkA4",
        "outputId": "e765c3b8-a4f4-48bc-fa12-1d81833967d5"
      },
      "source": [
        "grid.fit(X_train,y_train)\n",
        "preds = grid.predict(preprocessor.transform(X_test))\n"
      ],
      "execution_count": null,
      "outputs": [
        {
          "output_type": "stream",
          "text": [
            "Fitting 5 folds for each of 70 candidates, totalling 350 fits\n",
            "[Parallel(n_jobs=1)]: Using backend SequentialBackend with 1 concurrent workers.\n",
            "[CV] criterion=gini, min_samples_leaf=0, n_estimators=20 .............\n"
          ],
          "name": "stdout"
        },
        {
          "output_type": "stream",
          "text": [
            "/usr/local/lib/python3.7/dist-packages/sklearn/model_selection/_validation.py:536: FitFailedWarning: Estimator fit failed. The score on this train-test partition for these parameters will be set to nan. Details: \n",
            "ValueError: min_samples_leaf must be at least 1 or in (0, 0.5], got 0\n",
            "\n",
            "  FitFailedWarning)\n"
          ],
          "name": "stderr"
        },
        {
          "output_type": "stream",
          "text": [
            "[CV]  criterion=gini, min_samples_leaf=0, n_estimators=20, score=nan, total=   0.4s\n",
            "[Parallel(n_jobs=1)]: Done   1 out of   1 | elapsed:    0.4s remaining:    0.0s\n",
            "[CV] criterion=gini, min_samples_leaf=0, n_estimators=20 .............\n"
          ],
          "name": "stdout"
        },
        {
          "output_type": "stream",
          "text": [
            "/usr/local/lib/python3.7/dist-packages/sklearn/model_selection/_validation.py:536: FitFailedWarning: Estimator fit failed. The score on this train-test partition for these parameters will be set to nan. Details: \n",
            "ValueError: min_samples_leaf must be at least 1 or in (0, 0.5], got 0\n",
            "\n",
            "  FitFailedWarning)\n"
          ],
          "name": "stderr"
        },
        {
          "output_type": "stream",
          "text": [
            "[CV]  criterion=gini, min_samples_leaf=0, n_estimators=20, score=nan, total=   0.3s\n",
            "[Parallel(n_jobs=1)]: Done   2 out of   2 | elapsed:    0.7s remaining:    0.0s\n",
            "[CV] criterion=gini, min_samples_leaf=0, n_estimators=20 .............\n"
          ],
          "name": "stdout"
        },
        {
          "output_type": "stream",
          "text": [
            "/usr/local/lib/python3.7/dist-packages/sklearn/model_selection/_validation.py:536: FitFailedWarning: Estimator fit failed. The score on this train-test partition for these parameters will be set to nan. Details: \n",
            "ValueError: min_samples_leaf must be at least 1 or in (0, 0.5], got 0\n",
            "\n",
            "  FitFailedWarning)\n"
          ],
          "name": "stderr"
        },
        {
          "output_type": "stream",
          "text": [
            "[CV]  criterion=gini, min_samples_leaf=0, n_estimators=20, score=nan, total=   0.2s\n",
            "[Parallel(n_jobs=1)]: Done   3 out of   3 | elapsed:    1.0s remaining:    0.0s\n",
            "[CV] criterion=gini, min_samples_leaf=0, n_estimators=20 .............\n"
          ],
          "name": "stdout"
        },
        {
          "output_type": "stream",
          "text": [
            "/usr/local/lib/python3.7/dist-packages/sklearn/model_selection/_validation.py:536: FitFailedWarning: Estimator fit failed. The score on this train-test partition for these parameters will be set to nan. Details: \n",
            "ValueError: min_samples_leaf must be at least 1 or in (0, 0.5], got 0\n",
            "\n",
            "  FitFailedWarning)\n"
          ],
          "name": "stderr"
        },
        {
          "output_type": "stream",
          "text": [
            "[CV]  criterion=gini, min_samples_leaf=0, n_estimators=20, score=nan, total=   0.2s\n",
            "[Parallel(n_jobs=1)]: Done   4 out of   4 | elapsed:    1.2s remaining:    0.0s\n",
            "[CV] criterion=gini, min_samples_leaf=0, n_estimators=20 .............\n"
          ],
          "name": "stdout"
        },
        {
          "output_type": "stream",
          "text": [
            "/usr/local/lib/python3.7/dist-packages/sklearn/model_selection/_validation.py:536: FitFailedWarning: Estimator fit failed. The score on this train-test partition for these parameters will be set to nan. Details: \n",
            "ValueError: min_samples_leaf must be at least 1 or in (0, 0.5], got 0\n",
            "\n",
            "  FitFailedWarning)\n"
          ],
          "name": "stderr"
        },
        {
          "output_type": "stream",
          "text": [
            "[CV]  criterion=gini, min_samples_leaf=0, n_estimators=20, score=nan, total=   0.3s\n",
            "[Parallel(n_jobs=1)]: Done   5 out of   5 | elapsed:    1.5s remaining:    0.0s\n",
            "[CV] criterion=gini, min_samples_leaf=0, n_estimators=40 .............\n"
          ],
          "name": "stdout"
        },
        {
          "output_type": "stream",
          "text": [
            "/usr/local/lib/python3.7/dist-packages/sklearn/model_selection/_validation.py:536: FitFailedWarning: Estimator fit failed. The score on this train-test partition for these parameters will be set to nan. Details: \n",
            "ValueError: min_samples_leaf must be at least 1 or in (0, 0.5], got 0\n",
            "\n",
            "  FitFailedWarning)\n"
          ],
          "name": "stderr"
        },
        {
          "output_type": "stream",
          "text": [
            "[CV]  criterion=gini, min_samples_leaf=0, n_estimators=40, score=nan, total=   0.2s\n",
            "[Parallel(n_jobs=1)]: Done   6 out of   6 | elapsed:    1.7s remaining:    0.0s\n",
            "[CV] criterion=gini, min_samples_leaf=0, n_estimators=40 .............\n"
          ],
          "name": "stdout"
        },
        {
          "output_type": "stream",
          "text": [
            "/usr/local/lib/python3.7/dist-packages/sklearn/model_selection/_validation.py:536: FitFailedWarning: Estimator fit failed. The score on this train-test partition for these parameters will be set to nan. Details: \n",
            "ValueError: min_samples_leaf must be at least 1 or in (0, 0.5], got 0\n",
            "\n",
            "  FitFailedWarning)\n"
          ],
          "name": "stderr"
        },
        {
          "output_type": "stream",
          "text": [
            "[CV]  criterion=gini, min_samples_leaf=0, n_estimators=40, score=nan, total=   0.3s\n",
            "[Parallel(n_jobs=1)]: Done   7 out of   7 | elapsed:    2.0s remaining:    0.0s\n",
            "[CV] criterion=gini, min_samples_leaf=0, n_estimators=40 .............\n"
          ],
          "name": "stdout"
        },
        {
          "output_type": "stream",
          "text": [
            "/usr/local/lib/python3.7/dist-packages/sklearn/model_selection/_validation.py:536: FitFailedWarning: Estimator fit failed. The score on this train-test partition for these parameters will be set to nan. Details: \n",
            "ValueError: min_samples_leaf must be at least 1 or in (0, 0.5], got 0\n",
            "\n",
            "  FitFailedWarning)\n"
          ],
          "name": "stderr"
        },
        {
          "output_type": "stream",
          "text": [
            "[CV]  criterion=gini, min_samples_leaf=0, n_estimators=40, score=nan, total=   0.2s\n",
            "[Parallel(n_jobs=1)]: Done   8 out of   8 | elapsed:    2.2s remaining:    0.0s\n",
            "[CV] criterion=gini, min_samples_leaf=0, n_estimators=40 .............\n"
          ],
          "name": "stdout"
        },
        {
          "output_type": "stream",
          "text": [
            "/usr/local/lib/python3.7/dist-packages/sklearn/model_selection/_validation.py:536: FitFailedWarning: Estimator fit failed. The score on this train-test partition for these parameters will be set to nan. Details: \n",
            "ValueError: min_samples_leaf must be at least 1 or in (0, 0.5], got 0\n",
            "\n",
            "  FitFailedWarning)\n"
          ],
          "name": "stderr"
        },
        {
          "output_type": "stream",
          "text": [
            "[CV]  criterion=gini, min_samples_leaf=0, n_estimators=40, score=nan, total=   0.3s\n",
            "[Parallel(n_jobs=1)]: Done   9 out of   9 | elapsed:    2.5s remaining:    0.0s\n",
            "[CV] criterion=gini, min_samples_leaf=0, n_estimators=40 .............\n"
          ],
          "name": "stdout"
        },
        {
          "output_type": "stream",
          "text": [
            "/usr/local/lib/python3.7/dist-packages/sklearn/model_selection/_validation.py:536: FitFailedWarning: Estimator fit failed. The score on this train-test partition for these parameters will be set to nan. Details: \n",
            "ValueError: min_samples_leaf must be at least 1 or in (0, 0.5], got 0\n",
            "\n",
            "  FitFailedWarning)\n"
          ],
          "name": "stderr"
        },
        {
          "output_type": "stream",
          "text": [
            "[CV]  criterion=gini, min_samples_leaf=0, n_estimators=40, score=nan, total=   0.2s\n",
            "[Parallel(n_jobs=1)]: Done  10 out of  10 | elapsed:    2.7s remaining:    0.0s\n",
            "[CV] criterion=gini, min_samples_leaf=0, n_estimators=60 .............\n"
          ],
          "name": "stdout"
        },
        {
          "output_type": "stream",
          "text": [
            "/usr/local/lib/python3.7/dist-packages/sklearn/model_selection/_validation.py:536: FitFailedWarning: Estimator fit failed. The score on this train-test partition for these parameters will be set to nan. Details: \n",
            "ValueError: min_samples_leaf must be at least 1 or in (0, 0.5], got 0\n",
            "\n",
            "  FitFailedWarning)\n"
          ],
          "name": "stderr"
        },
        {
          "output_type": "stream",
          "text": [
            "[CV]  criterion=gini, min_samples_leaf=0, n_estimators=60, score=nan, total=   0.3s\n",
            "[Parallel(n_jobs=1)]: Done  11 out of  11 | elapsed:    3.0s remaining:    0.0s\n",
            "[CV] criterion=gini, min_samples_leaf=0, n_estimators=60 .............\n"
          ],
          "name": "stdout"
        },
        {
          "output_type": "stream",
          "text": [
            "/usr/local/lib/python3.7/dist-packages/sklearn/model_selection/_validation.py:536: FitFailedWarning: Estimator fit failed. The score on this train-test partition for these parameters will be set to nan. Details: \n",
            "ValueError: min_samples_leaf must be at least 1 or in (0, 0.5], got 0\n",
            "\n",
            "  FitFailedWarning)\n"
          ],
          "name": "stderr"
        },
        {
          "output_type": "stream",
          "text": [
            "[CV]  criterion=gini, min_samples_leaf=0, n_estimators=60, score=nan, total=   0.3s\n",
            "[Parallel(n_jobs=1)]: Done  12 out of  12 | elapsed:    3.3s remaining:    0.0s\n",
            "[CV] criterion=gini, min_samples_leaf=0, n_estimators=60 .............\n"
          ],
          "name": "stdout"
        },
        {
          "output_type": "stream",
          "text": [
            "/usr/local/lib/python3.7/dist-packages/sklearn/model_selection/_validation.py:536: FitFailedWarning: Estimator fit failed. The score on this train-test partition for these parameters will be set to nan. Details: \n",
            "ValueError: min_samples_leaf must be at least 1 or in (0, 0.5], got 0\n",
            "\n",
            "  FitFailedWarning)\n"
          ],
          "name": "stderr"
        },
        {
          "output_type": "stream",
          "text": [
            "[CV]  criterion=gini, min_samples_leaf=0, n_estimators=60, score=nan, total=   0.3s\n",
            "[Parallel(n_jobs=1)]: Done  13 out of  13 | elapsed:    3.5s remaining:    0.0s\n",
            "[CV] criterion=gini, min_samples_leaf=0, n_estimators=60 .............\n"
          ],
          "name": "stdout"
        },
        {
          "output_type": "stream",
          "text": [
            "/usr/local/lib/python3.7/dist-packages/sklearn/model_selection/_validation.py:536: FitFailedWarning: Estimator fit failed. The score on this train-test partition for these parameters will be set to nan. Details: \n",
            "ValueError: min_samples_leaf must be at least 1 or in (0, 0.5], got 0\n",
            "\n",
            "  FitFailedWarning)\n"
          ],
          "name": "stderr"
        },
        {
          "output_type": "stream",
          "text": [
            "[CV]  criterion=gini, min_samples_leaf=0, n_estimators=60, score=nan, total=   0.3s\n",
            "[Parallel(n_jobs=1)]: Done  14 out of  14 | elapsed:    3.8s remaining:    0.0s\n",
            "[CV] criterion=gini, min_samples_leaf=0, n_estimators=60 .............\n"
          ],
          "name": "stdout"
        },
        {
          "output_type": "stream",
          "text": [
            "/usr/local/lib/python3.7/dist-packages/sklearn/model_selection/_validation.py:536: FitFailedWarning: Estimator fit failed. The score on this train-test partition for these parameters will be set to nan. Details: \n",
            "ValueError: min_samples_leaf must be at least 1 or in (0, 0.5], got 0\n",
            "\n",
            "  FitFailedWarning)\n"
          ],
          "name": "stderr"
        },
        {
          "output_type": "stream",
          "text": [
            "[CV]  criterion=gini, min_samples_leaf=0, n_estimators=60, score=nan, total=   0.3s\n",
            "[Parallel(n_jobs=1)]: Done  15 out of  15 | elapsed:    4.1s remaining:    0.0s\n",
            "[CV] criterion=gini, min_samples_leaf=0, n_estimators=80 .............\n"
          ],
          "name": "stdout"
        },
        {
          "output_type": "stream",
          "text": [
            "/usr/local/lib/python3.7/dist-packages/sklearn/model_selection/_validation.py:536: FitFailedWarning: Estimator fit failed. The score on this train-test partition for these parameters will be set to nan. Details: \n",
            "ValueError: min_samples_leaf must be at least 1 or in (0, 0.5], got 0\n",
            "\n",
            "  FitFailedWarning)\n"
          ],
          "name": "stderr"
        },
        {
          "output_type": "stream",
          "text": [
            "[CV]  criterion=gini, min_samples_leaf=0, n_estimators=80, score=nan, total=   0.3s\n",
            "[Parallel(n_jobs=1)]: Done  16 out of  16 | elapsed:    4.4s remaining:    0.0s\n",
            "[CV] criterion=gini, min_samples_leaf=0, n_estimators=80 .............\n"
          ],
          "name": "stdout"
        },
        {
          "output_type": "stream",
          "text": [
            "/usr/local/lib/python3.7/dist-packages/sklearn/model_selection/_validation.py:536: FitFailedWarning: Estimator fit failed. The score on this train-test partition for these parameters will be set to nan. Details: \n",
            "ValueError: min_samples_leaf must be at least 1 or in (0, 0.5], got 0\n",
            "\n",
            "  FitFailedWarning)\n"
          ],
          "name": "stderr"
        },
        {
          "output_type": "stream",
          "text": [
            "[CV]  criterion=gini, min_samples_leaf=0, n_estimators=80, score=nan, total=   0.3s\n",
            "[Parallel(n_jobs=1)]: Done  17 out of  17 | elapsed:    4.6s remaining:    0.0s\n",
            "[CV] criterion=gini, min_samples_leaf=0, n_estimators=80 .............\n"
          ],
          "name": "stdout"
        },
        {
          "output_type": "stream",
          "text": [
            "/usr/local/lib/python3.7/dist-packages/sklearn/model_selection/_validation.py:536: FitFailedWarning: Estimator fit failed. The score on this train-test partition for these parameters will be set to nan. Details: \n",
            "ValueError: min_samples_leaf must be at least 1 or in (0, 0.5], got 0\n",
            "\n",
            "  FitFailedWarning)\n"
          ],
          "name": "stderr"
        },
        {
          "output_type": "stream",
          "text": [
            "[CV]  criterion=gini, min_samples_leaf=0, n_estimators=80, score=nan, total=   0.3s\n",
            "[Parallel(n_jobs=1)]: Done  18 out of  18 | elapsed:    4.9s remaining:    0.0s\n",
            "[CV] criterion=gini, min_samples_leaf=0, n_estimators=80 .............\n"
          ],
          "name": "stdout"
        },
        {
          "output_type": "stream",
          "text": [
            "/usr/local/lib/python3.7/dist-packages/sklearn/model_selection/_validation.py:536: FitFailedWarning: Estimator fit failed. The score on this train-test partition for these parameters will be set to nan. Details: \n",
            "ValueError: min_samples_leaf must be at least 1 or in (0, 0.5], got 0\n",
            "\n",
            "  FitFailedWarning)\n"
          ],
          "name": "stderr"
        },
        {
          "output_type": "stream",
          "text": [
            "[CV]  criterion=gini, min_samples_leaf=0, n_estimators=80, score=nan, total=   0.3s\n",
            "[Parallel(n_jobs=1)]: Done  19 out of  19 | elapsed:    5.2s remaining:    0.0s\n",
            "[CV] criterion=gini, min_samples_leaf=0, n_estimators=80 .............\n"
          ],
          "name": "stdout"
        },
        {
          "output_type": "stream",
          "text": [
            "/usr/local/lib/python3.7/dist-packages/sklearn/model_selection/_validation.py:536: FitFailedWarning: Estimator fit failed. The score on this train-test partition for these parameters will be set to nan. Details: \n",
            "ValueError: min_samples_leaf must be at least 1 or in (0, 0.5], got 0\n",
            "\n",
            "  FitFailedWarning)\n"
          ],
          "name": "stderr"
        },
        {
          "output_type": "stream",
          "text": [
            "[CV]  criterion=gini, min_samples_leaf=0, n_estimators=80, score=nan, total=   0.3s\n",
            "[Parallel(n_jobs=1)]: Done  20 out of  20 | elapsed:    5.5s remaining:    0.0s\n",
            "[CV] criterion=gini, min_samples_leaf=0, n_estimators=100 ............\n"
          ],
          "name": "stdout"
        },
        {
          "output_type": "stream",
          "text": [
            "/usr/local/lib/python3.7/dist-packages/sklearn/model_selection/_validation.py:536: FitFailedWarning: Estimator fit failed. The score on this train-test partition for these parameters will be set to nan. Details: \n",
            "ValueError: min_samples_leaf must be at least 1 or in (0, 0.5], got 0\n",
            "\n",
            "  FitFailedWarning)\n"
          ],
          "name": "stderr"
        },
        {
          "output_type": "stream",
          "text": [
            "[CV]  criterion=gini, min_samples_leaf=0, n_estimators=100, score=nan, total=   0.3s\n",
            "[Parallel(n_jobs=1)]: Done  21 out of  21 | elapsed:    5.8s remaining:    0.0s\n",
            "[CV] criterion=gini, min_samples_leaf=0, n_estimators=100 ............\n"
          ],
          "name": "stdout"
        },
        {
          "output_type": "stream",
          "text": [
            "/usr/local/lib/python3.7/dist-packages/sklearn/model_selection/_validation.py:536: FitFailedWarning: Estimator fit failed. The score on this train-test partition for these parameters will be set to nan. Details: \n",
            "ValueError: min_samples_leaf must be at least 1 or in (0, 0.5], got 0\n",
            "\n",
            "  FitFailedWarning)\n"
          ],
          "name": "stderr"
        },
        {
          "output_type": "stream",
          "text": [
            "[CV]  criterion=gini, min_samples_leaf=0, n_estimators=100, score=nan, total=   0.3s\n",
            "[Parallel(n_jobs=1)]: Done  22 out of  22 | elapsed:    6.1s remaining:    0.0s\n",
            "[CV] criterion=gini, min_samples_leaf=0, n_estimators=100 ............\n"
          ],
          "name": "stdout"
        },
        {
          "output_type": "stream",
          "text": [
            "/usr/local/lib/python3.7/dist-packages/sklearn/model_selection/_validation.py:536: FitFailedWarning: Estimator fit failed. The score on this train-test partition for these parameters will be set to nan. Details: \n",
            "ValueError: min_samples_leaf must be at least 1 or in (0, 0.5], got 0\n",
            "\n",
            "  FitFailedWarning)\n"
          ],
          "name": "stderr"
        },
        {
          "output_type": "stream",
          "text": [
            "[CV]  criterion=gini, min_samples_leaf=0, n_estimators=100, score=nan, total=   0.3s\n",
            "[Parallel(n_jobs=1)]: Done  23 out of  23 | elapsed:    6.4s remaining:    0.0s\n",
            "[CV] criterion=gini, min_samples_leaf=0, n_estimators=100 ............\n"
          ],
          "name": "stdout"
        },
        {
          "output_type": "stream",
          "text": [
            "/usr/local/lib/python3.7/dist-packages/sklearn/model_selection/_validation.py:536: FitFailedWarning: Estimator fit failed. The score on this train-test partition for these parameters will be set to nan. Details: \n",
            "ValueError: min_samples_leaf must be at least 1 or in (0, 0.5], got 0\n",
            "\n",
            "  FitFailedWarning)\n"
          ],
          "name": "stderr"
        },
        {
          "output_type": "stream",
          "text": [
            "[CV]  criterion=gini, min_samples_leaf=0, n_estimators=100, score=nan, total=   0.3s\n",
            "[Parallel(n_jobs=1)]: Done  24 out of  24 | elapsed:    6.6s remaining:    0.0s\n",
            "[CV] criterion=gini, min_samples_leaf=0, n_estimators=100 ............\n"
          ],
          "name": "stdout"
        },
        {
          "output_type": "stream",
          "text": [
            "/usr/local/lib/python3.7/dist-packages/sklearn/model_selection/_validation.py:536: FitFailedWarning: Estimator fit failed. The score on this train-test partition for these parameters will be set to nan. Details: \n",
            "ValueError: min_samples_leaf must be at least 1 or in (0, 0.5], got 0\n",
            "\n",
            "  FitFailedWarning)\n"
          ],
          "name": "stderr"
        },
        {
          "output_type": "stream",
          "text": [
            "[CV]  criterion=gini, min_samples_leaf=0, n_estimators=100, score=nan, total=   0.3s\n",
            "[Parallel(n_jobs=1)]: Done  25 out of  25 | elapsed:    6.9s remaining:    0.0s\n",
            "[CV] criterion=gini, min_samples_leaf=0, n_estimators=120 ............\n"
          ],
          "name": "stdout"
        },
        {
          "output_type": "stream",
          "text": [
            "/usr/local/lib/python3.7/dist-packages/sklearn/model_selection/_validation.py:536: FitFailedWarning: Estimator fit failed. The score on this train-test partition for these parameters will be set to nan. Details: \n",
            "ValueError: min_samples_leaf must be at least 1 or in (0, 0.5], got 0\n",
            "\n",
            "  FitFailedWarning)\n"
          ],
          "name": "stderr"
        },
        {
          "output_type": "stream",
          "text": [
            "[CV]  criterion=gini, min_samples_leaf=0, n_estimators=120, score=nan, total=   0.3s\n",
            "[Parallel(n_jobs=1)]: Done  26 out of  26 | elapsed:    7.2s remaining:    0.0s\n",
            "[CV] criterion=gini, min_samples_leaf=0, n_estimators=120 ............\n"
          ],
          "name": "stdout"
        },
        {
          "output_type": "stream",
          "text": [
            "/usr/local/lib/python3.7/dist-packages/sklearn/model_selection/_validation.py:536: FitFailedWarning: Estimator fit failed. The score on this train-test partition for these parameters will be set to nan. Details: \n",
            "ValueError: min_samples_leaf must be at least 1 or in (0, 0.5], got 0\n",
            "\n",
            "  FitFailedWarning)\n"
          ],
          "name": "stderr"
        },
        {
          "output_type": "stream",
          "text": [
            "[CV]  criterion=gini, min_samples_leaf=0, n_estimators=120, score=nan, total=   0.3s\n",
            "[Parallel(n_jobs=1)]: Done  27 out of  27 | elapsed:    7.5s remaining:    0.0s\n",
            "[CV] criterion=gini, min_samples_leaf=0, n_estimators=120 ............\n"
          ],
          "name": "stdout"
        },
        {
          "output_type": "stream",
          "text": [
            "/usr/local/lib/python3.7/dist-packages/sklearn/model_selection/_validation.py:536: FitFailedWarning: Estimator fit failed. The score on this train-test partition for these parameters will be set to nan. Details: \n",
            "ValueError: min_samples_leaf must be at least 1 or in (0, 0.5], got 0\n",
            "\n",
            "  FitFailedWarning)\n"
          ],
          "name": "stderr"
        },
        {
          "output_type": "stream",
          "text": [
            "[CV]  criterion=gini, min_samples_leaf=0, n_estimators=120, score=nan, total=   0.3s\n",
            "[Parallel(n_jobs=1)]: Done  28 out of  28 | elapsed:    7.8s remaining:    0.0s\n",
            "[CV] criterion=gini, min_samples_leaf=0, n_estimators=120 ............\n"
          ],
          "name": "stdout"
        },
        {
          "output_type": "stream",
          "text": [
            "/usr/local/lib/python3.7/dist-packages/sklearn/model_selection/_validation.py:536: FitFailedWarning: Estimator fit failed. The score on this train-test partition for these parameters will be set to nan. Details: \n",
            "ValueError: min_samples_leaf must be at least 1 or in (0, 0.5], got 0\n",
            "\n",
            "  FitFailedWarning)\n"
          ],
          "name": "stderr"
        },
        {
          "output_type": "stream",
          "text": [
            "[CV]  criterion=gini, min_samples_leaf=0, n_estimators=120, score=nan, total=   0.3s\n",
            "[Parallel(n_jobs=1)]: Done  29 out of  29 | elapsed:    8.1s remaining:    0.0s\n",
            "[CV] criterion=gini, min_samples_leaf=0, n_estimators=120 ............\n"
          ],
          "name": "stdout"
        },
        {
          "output_type": "stream",
          "text": [
            "/usr/local/lib/python3.7/dist-packages/sklearn/model_selection/_validation.py:536: FitFailedWarning: Estimator fit failed. The score on this train-test partition for these parameters will be set to nan. Details: \n",
            "ValueError: min_samples_leaf must be at least 1 or in (0, 0.5], got 0\n",
            "\n",
            "  FitFailedWarning)\n"
          ],
          "name": "stderr"
        },
        {
          "output_type": "stream",
          "text": [
            "[CV]  criterion=gini, min_samples_leaf=0, n_estimators=120, score=nan, total=   0.3s\n",
            "[Parallel(n_jobs=1)]: Done  30 out of  30 | elapsed:    8.4s remaining:    0.0s\n",
            "[CV] criterion=gini, min_samples_leaf=0, n_estimators=140 ............\n"
          ],
          "name": "stdout"
        },
        {
          "output_type": "stream",
          "text": [
            "/usr/local/lib/python3.7/dist-packages/sklearn/model_selection/_validation.py:536: FitFailedWarning: Estimator fit failed. The score on this train-test partition for these parameters will be set to nan. Details: \n",
            "ValueError: min_samples_leaf must be at least 1 or in (0, 0.5], got 0\n",
            "\n",
            "  FitFailedWarning)\n"
          ],
          "name": "stderr"
        },
        {
          "output_type": "stream",
          "text": [
            "[CV]  criterion=gini, min_samples_leaf=0, n_estimators=140, score=nan, total=   0.3s\n",
            "[Parallel(n_jobs=1)]: Done  31 out of  31 | elapsed:    8.7s remaining:    0.0s\n",
            "[CV] criterion=gini, min_samples_leaf=0, n_estimators=140 ............\n"
          ],
          "name": "stdout"
        },
        {
          "output_type": "stream",
          "text": [
            "/usr/local/lib/python3.7/dist-packages/sklearn/model_selection/_validation.py:536: FitFailedWarning: Estimator fit failed. The score on this train-test partition for these parameters will be set to nan. Details: \n",
            "ValueError: min_samples_leaf must be at least 1 or in (0, 0.5], got 0\n",
            "\n",
            "  FitFailedWarning)\n"
          ],
          "name": "stderr"
        },
        {
          "output_type": "stream",
          "text": [
            "[CV]  criterion=gini, min_samples_leaf=0, n_estimators=140, score=nan, total=   0.3s\n",
            "[Parallel(n_jobs=1)]: Done  32 out of  32 | elapsed:    9.0s remaining:    0.0s\n",
            "[CV] criterion=gini, min_samples_leaf=0, n_estimators=140 ............\n"
          ],
          "name": "stdout"
        },
        {
          "output_type": "stream",
          "text": [
            "/usr/local/lib/python3.7/dist-packages/sklearn/model_selection/_validation.py:536: FitFailedWarning: Estimator fit failed. The score on this train-test partition for these parameters will be set to nan. Details: \n",
            "ValueError: min_samples_leaf must be at least 1 or in (0, 0.5], got 0\n",
            "\n",
            "  FitFailedWarning)\n"
          ],
          "name": "stderr"
        },
        {
          "output_type": "stream",
          "text": [
            "[CV]  criterion=gini, min_samples_leaf=0, n_estimators=140, score=nan, total=   0.3s\n",
            "[Parallel(n_jobs=1)]: Done  33 out of  33 | elapsed:    9.3s remaining:    0.0s\n",
            "[CV] criterion=gini, min_samples_leaf=0, n_estimators=140 ............\n"
          ],
          "name": "stdout"
        },
        {
          "output_type": "stream",
          "text": [
            "/usr/local/lib/python3.7/dist-packages/sklearn/model_selection/_validation.py:536: FitFailedWarning: Estimator fit failed. The score on this train-test partition for these parameters will be set to nan. Details: \n",
            "ValueError: min_samples_leaf must be at least 1 or in (0, 0.5], got 0\n",
            "\n",
            "  FitFailedWarning)\n"
          ],
          "name": "stderr"
        },
        {
          "output_type": "stream",
          "text": [
            "[CV]  criterion=gini, min_samples_leaf=0, n_estimators=140, score=nan, total=   0.3s\n",
            "[Parallel(n_jobs=1)]: Done  34 out of  34 | elapsed:    9.6s remaining:    0.0s\n",
            "[CV] criterion=gini, min_samples_leaf=0, n_estimators=140 ............\n"
          ],
          "name": "stdout"
        },
        {
          "output_type": "stream",
          "text": [
            "/usr/local/lib/python3.7/dist-packages/sklearn/model_selection/_validation.py:536: FitFailedWarning: Estimator fit failed. The score on this train-test partition for these parameters will be set to nan. Details: \n",
            "ValueError: min_samples_leaf must be at least 1 or in (0, 0.5], got 0\n",
            "\n",
            "  FitFailedWarning)\n"
          ],
          "name": "stderr"
        },
        {
          "output_type": "stream",
          "text": [
            "[CV]  criterion=gini, min_samples_leaf=0, n_estimators=140, score=nan, total=   0.3s\n",
            "[Parallel(n_jobs=1)]: Done  35 out of  35 | elapsed:    9.9s remaining:    0.0s\n",
            "[CV] criterion=gini, min_samples_leaf=1, n_estimators=20 .............\n"
          ],
          "name": "stdout"
        },
        {
          "output_type": "stream",
          "text": [
            "/usr/local/lib/python3.7/dist-packages/sklearn/ensemble/_forest.py:523: UserWarning: Some inputs do not have OOB scores. This probably means too few trees were used to compute any reliable oob estimates.\n",
            "  warn(\"Some inputs do not have OOB scores. \"\n",
            "/usr/local/lib/python3.7/dist-packages/sklearn/ensemble/_forest.py:528: RuntimeWarning: invalid value encountered in true_divide\n",
            "  predictions[k].sum(axis=1)[:, np.newaxis])\n"
          ],
          "name": "stderr"
        },
        {
          "output_type": "stream",
          "text": [
            "[CV]  criterion=gini, min_samples_leaf=1, n_estimators=20, score=0.996, total=  27.2s\n",
            "[Parallel(n_jobs=1)]: Done  36 out of  36 | elapsed:   37.1s remaining:    0.0s\n",
            "[CV] criterion=gini, min_samples_leaf=1, n_estimators=20 .............\n"
          ],
          "name": "stdout"
        },
        {
          "output_type": "stream",
          "text": [
            "/usr/local/lib/python3.7/dist-packages/sklearn/ensemble/_forest.py:523: UserWarning: Some inputs do not have OOB scores. This probably means too few trees were used to compute any reliable oob estimates.\n",
            "  warn(\"Some inputs do not have OOB scores. \"\n",
            "/usr/local/lib/python3.7/dist-packages/sklearn/ensemble/_forest.py:528: RuntimeWarning: invalid value encountered in true_divide\n",
            "  predictions[k].sum(axis=1)[:, np.newaxis])\n"
          ],
          "name": "stderr"
        },
        {
          "output_type": "stream",
          "text": [
            "[CV]  criterion=gini, min_samples_leaf=1, n_estimators=20, score=0.996, total=  27.0s\n",
            "[Parallel(n_jobs=1)]: Done  37 out of  37 | elapsed:  1.1min remaining:    0.0s\n",
            "[CV] criterion=gini, min_samples_leaf=1, n_estimators=20 .............\n"
          ],
          "name": "stdout"
        },
        {
          "output_type": "stream",
          "text": [
            "/usr/local/lib/python3.7/dist-packages/sklearn/ensemble/_forest.py:523: UserWarning: Some inputs do not have OOB scores. This probably means too few trees were used to compute any reliable oob estimates.\n",
            "  warn(\"Some inputs do not have OOB scores. \"\n",
            "/usr/local/lib/python3.7/dist-packages/sklearn/ensemble/_forest.py:528: RuntimeWarning: invalid value encountered in true_divide\n",
            "  predictions[k].sum(axis=1)[:, np.newaxis])\n"
          ],
          "name": "stderr"
        },
        {
          "output_type": "stream",
          "text": [
            "[CV]  criterion=gini, min_samples_leaf=1, n_estimators=20, score=0.996, total=  27.3s\n",
            "[Parallel(n_jobs=1)]: Done  38 out of  38 | elapsed:  1.5min remaining:    0.0s\n",
            "[CV] criterion=gini, min_samples_leaf=1, n_estimators=20 .............\n"
          ],
          "name": "stdout"
        },
        {
          "output_type": "stream",
          "text": [
            "/usr/local/lib/python3.7/dist-packages/sklearn/ensemble/_forest.py:523: UserWarning: Some inputs do not have OOB scores. This probably means too few trees were used to compute any reliable oob estimates.\n",
            "  warn(\"Some inputs do not have OOB scores. \"\n",
            "/usr/local/lib/python3.7/dist-packages/sklearn/ensemble/_forest.py:528: RuntimeWarning: invalid value encountered in true_divide\n",
            "  predictions[k].sum(axis=1)[:, np.newaxis])\n"
          ],
          "name": "stderr"
        },
        {
          "output_type": "stream",
          "text": [
            "[CV]  criterion=gini, min_samples_leaf=1, n_estimators=20, score=0.995, total=  27.7s\n",
            "[Parallel(n_jobs=1)]: Done  39 out of  39 | elapsed:  2.0min remaining:    0.0s\n",
            "[CV] criterion=gini, min_samples_leaf=1, n_estimators=20 .............\n"
          ],
          "name": "stdout"
        },
        {
          "output_type": "stream",
          "text": [
            "/usr/local/lib/python3.7/dist-packages/sklearn/ensemble/_forest.py:523: UserWarning: Some inputs do not have OOB scores. This probably means too few trees were used to compute any reliable oob estimates.\n",
            "  warn(\"Some inputs do not have OOB scores. \"\n",
            "/usr/local/lib/python3.7/dist-packages/sklearn/ensemble/_forest.py:528: RuntimeWarning: invalid value encountered in true_divide\n",
            "  predictions[k].sum(axis=1)[:, np.newaxis])\n"
          ],
          "name": "stderr"
        },
        {
          "output_type": "stream",
          "text": [
            "[CV]  criterion=gini, min_samples_leaf=1, n_estimators=20, score=0.966, total=  26.9s\n",
            "[Parallel(n_jobs=1)]: Done  40 out of  40 | elapsed:  2.4min remaining:    0.0s\n",
            "[CV] criterion=gini, min_samples_leaf=1, n_estimators=40 .............\n",
            "[CV]  criterion=gini, min_samples_leaf=1, n_estimators=40, score=0.996, total=  53.0s\n",
            "[Parallel(n_jobs=1)]: Done  41 out of  41 | elapsed:  3.3min remaining:    0.0s\n",
            "[CV] criterion=gini, min_samples_leaf=1, n_estimators=40 .............\n",
            "[CV]  criterion=gini, min_samples_leaf=1, n_estimators=40, score=0.996, total=  52.7s\n",
            "[Parallel(n_jobs=1)]: Done  42 out of  42 | elapsed:  4.2min remaining:    0.0s\n",
            "[CV] criterion=gini, min_samples_leaf=1, n_estimators=40 .............\n",
            "[CV]  criterion=gini, min_samples_leaf=1, n_estimators=40, score=0.996, total=  53.0s\n",
            "[Parallel(n_jobs=1)]: Done  43 out of  43 | elapsed:  5.1min remaining:    0.0s\n",
            "[CV] criterion=gini, min_samples_leaf=1, n_estimators=40 .............\n",
            "[CV]  criterion=gini, min_samples_leaf=1, n_estimators=40, score=0.996, total=  52.5s\n",
            "[Parallel(n_jobs=1)]: Done  44 out of  44 | elapsed:  6.0min remaining:    0.0s\n",
            "[CV] criterion=gini, min_samples_leaf=1, n_estimators=40 .............\n",
            "[CV]  criterion=gini, min_samples_leaf=1, n_estimators=40, score=0.966, total=  51.5s\n",
            "[Parallel(n_jobs=1)]: Done  45 out of  45 | elapsed:  6.8min remaining:    0.0s\n",
            "[CV] criterion=gini, min_samples_leaf=1, n_estimators=60 .............\n",
            "[CV]  criterion=gini, min_samples_leaf=1, n_estimators=60, score=0.996, total= 1.3min\n",
            "[Parallel(n_jobs=1)]: Done  46 out of  46 | elapsed:  8.2min remaining:    0.0s\n",
            "[CV] criterion=gini, min_samples_leaf=1, n_estimators=60 .............\n",
            "[CV]  criterion=gini, min_samples_leaf=1, n_estimators=60, score=0.996, total= 1.3min\n",
            "[Parallel(n_jobs=1)]: Done  47 out of  47 | elapsed:  9.5min remaining:    0.0s\n",
            "[CV] criterion=gini, min_samples_leaf=1, n_estimators=60 .............\n",
            "[CV]  criterion=gini, min_samples_leaf=1, n_estimators=60, score=0.996, total= 1.2min\n",
            "[Parallel(n_jobs=1)]: Done  48 out of  48 | elapsed: 10.7min remaining:    0.0s\n",
            "[CV] criterion=gini, min_samples_leaf=1, n_estimators=60 .............\n",
            "[CV]  criterion=gini, min_samples_leaf=1, n_estimators=60, score=0.996, total= 1.1min\n",
            "[Parallel(n_jobs=1)]: Done  49 out of  49 | elapsed: 11.8min remaining:    0.0s\n",
            "[CV] criterion=gini, min_samples_leaf=1, n_estimators=60 .............\n",
            "[CV]  criterion=gini, min_samples_leaf=1, n_estimators=60, score=0.966, total= 1.1min\n",
            "[Parallel(n_jobs=1)]: Done  50 out of  50 | elapsed: 12.9min remaining:    0.0s\n",
            "[CV] criterion=gini, min_samples_leaf=1, n_estimators=80 .............\n",
            "[CV]  criterion=gini, min_samples_leaf=1, n_estimators=80, score=0.996, total= 1.6min\n",
            "[Parallel(n_jobs=1)]: Done  51 out of  51 | elapsed: 14.4min remaining:    0.0s\n",
            "[CV] criterion=gini, min_samples_leaf=1, n_estimators=80 .............\n",
            "[CV]  criterion=gini, min_samples_leaf=1, n_estimators=80, score=0.996, total= 1.4min\n",
            "[Parallel(n_jobs=1)]: Done  52 out of  52 | elapsed: 15.8min remaining:    0.0s\n",
            "[CV] criterion=gini, min_samples_leaf=1, n_estimators=80 .............\n",
            "[CV]  criterion=gini, min_samples_leaf=1, n_estimators=80, score=0.996, total= 1.4min\n",
            "[Parallel(n_jobs=1)]: Done  53 out of  53 | elapsed: 17.3min remaining:    0.0s\n",
            "[CV] criterion=gini, min_samples_leaf=1, n_estimators=80 .............\n",
            "[CV]  criterion=gini, min_samples_leaf=1, n_estimators=80, score=0.996, total= 1.4min\n",
            "[Parallel(n_jobs=1)]: Done  54 out of  54 | elapsed: 18.7min remaining:    0.0s\n",
            "[CV] criterion=gini, min_samples_leaf=1, n_estimators=80 .............\n",
            "[CV]  criterion=gini, min_samples_leaf=1, n_estimators=80, score=0.966, total= 1.4min\n",
            "[Parallel(n_jobs=1)]: Done  55 out of  55 | elapsed: 20.1min remaining:    0.0s\n",
            "[CV] criterion=gini, min_samples_leaf=1, n_estimators=100 ............\n"
          ],
          "name": "stdout"
        }
      ]
    },
    {
      "cell_type": "code",
      "metadata": {
        "id": "o_a77yiRT7us"
      },
      "source": [
        "print('лучший скор: ', grid.best_score_, 'лучшие параметры: ' grid.best_params_)"
      ],
      "execution_count": null,
      "outputs": []
    },
    {
      "cell_type": "code",
      "metadata": {
        "id": "W1JODL2MQtjW"
      },
      "source": [
        "roc_auc_score(y_test,preds)"
      ],
      "execution_count": null,
      "outputs": []
    },
    {
      "cell_type": "code",
      "metadata": {
        "id": "5rFIdFj0Cfy1"
      },
      "source": [
        "# params = {'kernel': ['linear', 'poly', 'rbf','sigmoid'],\n",
        "#           'C': [1,.1,0.01,0.001],\n",
        "#           'epsilon': [.1,0.01,0.001]}\n",
        "\n",
        "# grid = GridSearchCV(SVR(), param_grid = params, cv = 5, verbose = 100)\n",
        "# grid.fit(X_train,y_train)"
      ],
      "execution_count": null,
      "outputs": []
    },
    {
      "cell_type": "code",
      "metadata": {
        "id": "msbTejw8Oaim"
      },
      "source": [
        "from sklearn.linear_model import LogisticRegression"
      ],
      "execution_count": null,
      "outputs": []
    },
    {
      "cell_type": "code",
      "metadata": {
        "colab": {
          "base_uri": "https://localhost:8080/"
        },
        "id": "WL9QhAMbOdpe",
        "outputId": "3f31b652-0995-4a3d-d6e8-29cab0ac5087"
      },
      "source": [
        "logreg = LogisticRegression()\n",
        "logreg.fit(X_train,y_train)\n",
        "predictions = logreg.predict(preprocessor.transform(X_test))\n",
        "roc_auc_score(y_test,predictions)"
      ],
      "execution_count": null,
      "outputs": [
        {
          "output_type": "stream",
          "text": [
            "/usr/local/lib/python3.7/dist-packages/sklearn/linear_model/_logistic.py:940: ConvergenceWarning: lbfgs failed to converge (status=1):\n",
            "STOP: TOTAL NO. of ITERATIONS REACHED LIMIT.\n",
            "\n",
            "Increase the number of iterations (max_iter) or scale the data as shown in:\n",
            "    https://scikit-learn.org/stable/modules/preprocessing.html\n",
            "Please also refer to the documentation for alternative solver options:\n",
            "    https://scikit-learn.org/stable/modules/linear_model.html#logistic-regression\n",
            "  extra_warning_msg=_LOGISTIC_SOLVER_CONVERGENCE_MSG)\n",
            "/usr/local/lib/python3.7/dist-packages/sklearn/compose/_column_transformer.py:430: FutureWarning: Given feature/column names or counts do not match the ones for the data given during fit. This will fail from v0.24.\n",
            "  FutureWarning)\n"
          ],
          "name": "stderr"
        },
        {
          "output_type": "execute_result",
          "data": {
            "text/plain": [
              "0.5850011491214611"
            ]
          },
          "metadata": {
            "tags": []
          },
          "execution_count": 149
        }
      ]
    },
    {
      "cell_type": "markdown",
      "metadata": {
        "id": "RxcDVgroErPZ"
      },
      "source": [
        " # Классификация"
      ]
    },
    {
      "cell_type": "code",
      "metadata": {
        "id": "O_UctNhCY47u"
      },
      "source": [
        "params = {'classifier__kernel': ['linear', 'poly', 'rbf','sigmoid'],\n",
        "          'classifier__C': [1,.1,0.01,0.001],\n",
        "          'classifier__epsilon': [.1,0.01,0.001]}\n",
        "# params = {'kernel_label' = ['RBF', 'Linear', 'Polynomial'],\n",
        "#           'svrs' = [svr_rbf, svr_lin, svr_poly]\n",
        "#           'epsilon'=[.1,0.01,0.001]\n",
        "# 'loss': ['epsilon_insensitive', 'squared_epsilon_insensitive']\n",
        "grid = GridSearchCV(clf, param_grid = params, cv = 5, verbose = 100, )\n"
      ],
      "execution_count": null,
      "outputs": []
    },
    {
      "cell_type": "code",
      "metadata": {
        "id": "btkqy2t5cGA0"
      },
      "source": [
        "# s = SVR()"
      ],
      "execution_count": null,
      "outputs": []
    },
    {
      "cell_type": "code",
      "metadata": {
        "id": "F9XPUFPPbCB2"
      },
      "source": [
        "# grid.fit(train.drop(columns= ['target_regression',\t'target_classification']), train['target_regression'] )"
      ],
      "execution_count": null,
      "outputs": []
    },
    {
      "cell_type": "code",
      "metadata": {
        "id": "yVRfLnye8dvD"
      },
      "source": [
        "# ct = ColumnTransformer(\n",
        "#     [('one_hot_encoder', OneHotEncoder(sparse=False),categorical)],   \n",
        "#     remainder='passthrough'   )\n",
        "# preprocess_pipeline=Pipeline([('ohe',ct),('sc',StandardScaler())])\n",
        "# log_reg_pipeline=Pipeline([('preprocess',preprocess_pipeline),('classifier',SVR())])"
      ],
      "execution_count": null,
      "outputs": []
    },
    {
      "cell_type": "markdown",
      "metadata": {
        "id": "djFAwR_pm3wq"
      },
      "source": [
        "## 1.2 Кластеризация"
      ]
    },
    {
      "cell_type": "markdown",
      "metadata": {
        "id": "bJfaG7DNm3wr"
      },
      "source": [
        "1. кластеризовать заданный набор данных (*task2_train_v5.csv*). Предложить метрику и проверить качество.\n",
        "2. получить предсказания (номер кластера), сохранить в файл с расширением *csv* и приложить к решению."
      ]
    },
    {
      "cell_type": "code",
      "metadata": {
        "id": "7SIfDNnmBp1r"
      },
      "source": [
        "pca = PCA(n_components=2)\n",
        "res = pca.fit_transform(X_train)"
      ],
      "execution_count": null,
      "outputs": []
    },
    {
      "cell_type": "code",
      "metadata": {
        "id": "lmQomioRdNC5"
      },
      "source": [
        "km = KMeans(n_clusters=2, init='k-means++', max_iter=100)\n",
        "km.fit_transform(res)"
      ],
      "execution_count": null,
      "outputs": []
    },
    {
      "cell_type": "code",
      "metadata": {
        "id": "yMuMw_ZZBjXj"
      },
      "source": [
        "plt.scatter(res[:, 0], res[:, 1], c=km.labels_, \n",
        "            edgecolor='none', alpha=0.7, s=40,\n",
        "            cmap=plt.cm.get_cmap('nipy_spectral', 10))"
      ],
      "execution_count": null,
      "outputs": []
    },
    {
      "cell_type": "code",
      "metadata": {
        "id": "jQCzWiU1f7BH"
      },
      "source": [
        "from sklearn.cluster import KMeans\n",
        "from sklearn.decomposition import PCA\n",
        "k_means = KMeans(n_clusters = 2)\n",
        "k_means = k_means.fit(X_train)\n",
        "clusters = k_means.predict(X)\n",
        "pca = PCA(n_components=2)\n",
        "X_reduced = pca.fit_transform(X_train)\n",
        "\n",
        "print('Projecting %d-dimensional data to 2D' % X.shape[1])\n",
        "\n",
        "plt.scatter(X_reduced[:,0], X_reduced[:,1], c=km.labels_)\n",
        "plt.show()"
      ],
      "execution_count": null,
      "outputs": []
    },
    {
      "cell_type": "code",
      "metadata": {
        "id": "k1zVK70Xc3f_"
      },
      "source": [
        "from sklearn.manifold import TSNE\n",
        "\n",
        "tsne = TSNE(random_state=17)\n",
        "X_tsne = tsne.fit_transform(X_train)\n",
        "\n",
        "plt.figure(figsize=(12,10))\n",
        "plt.scatter(X_tsne[:, 0], X_tsne[:, 1], c=y_train, \n",
        "            edgecolor='none', alpha=0.7, s=40,\n",
        "            cmap=plt.cm.get_cmap('nipy_spectral', 10))\n",
        "plt.colorbar()"
      ],
      "execution_count": null,
      "outputs": []
    }
  ]
}